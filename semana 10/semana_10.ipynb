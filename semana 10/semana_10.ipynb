{
 "cells": [
  {
   "cell_type": "code",
   "execution_count": null,
   "metadata": {},
   "outputs": [],
   "source": [
    "import numpy as np\n",
    "import cv2\n",
    "import math"
   ]
  },
  {
   "attachments": {},
   "cell_type": "markdown",
   "metadata": {},
   "source": [
    "Q1"
   ]
  },
  {
   "cell_type": "code",
   "execution_count": null,
   "metadata": {},
   "outputs": [],
   "source": [
    "maxi = 0\n",
    "mini = 255"
   ]
  },
  {
   "cell_type": "code",
   "execution_count": null,
   "metadata": {},
   "outputs": [],
   "source": [
    "def output_type_conversation(image):\n",
    "    for k in range(len(image)):\n",
    "        for z in range(len(image[k])):\n",
    "            image[k][z] = np.uint8(image[k][z])\n",
    "\n",
    "    return np.array(image)"
   ]
  },
  {
   "cell_type": "code",
   "execution_count": null,
   "metadata": {},
   "outputs": [],
   "source": [
    "def input_type_conversation(image):\n",
    "    global maxi\n",
    "    global mini\n",
    "\n",
    "    array_aux = []\n",
    "    \n",
    "    for x in range(len(image)):\n",
    "        for y in range(len(image[x])):\n",
    "            maxi = max(maxi, image[x][y])\n",
    "            mini = min(mini, image[x][y])\n",
    "\n",
    "    for y in range(len(image)):\n",
    "        array_aux.append(image[y].tolist())\n",
    "        for z in range(len(image[y])):\n",
    "            array_aux[y][z] = (int(image[y][z]))\n",
    "    \n",
    "    return array_aux\n"
   ]
  },
  {
   "cell_type": "code",
   "execution_count": null,
   "metadata": {},
   "outputs": [],
   "source": [
    "def image_negative(image):\n",
    "    global maxi\n",
    "    \n",
    "    for p in range(len(image)):\n",
    "        for u in range(len(image[p])):\n",
    "            image[p][u] = maxi - (image[p][u])\n",
    "    return image"
   ]
  },
  {
   "cell_type": "code",
   "execution_count": null,
   "metadata": {},
   "outputs": [],
   "source": [
    "img1=cv2.imread('/home/laisy/Documentos/RP/RP-2022.1/semana 10/imagens/Fig0304(a)(breast_digital_Xray).png', cv2.IMREAD_GRAYSCALE)"
   ]
  },
  {
   "cell_type": "code",
   "execution_count": null,
   "metadata": {},
   "outputs": [],
   "source": [
    "negative = input_type_conversation(img1)\n",
    "negative = image_negative(negative)\n",
    "negative = output_type_conversation(negative)\n"
   ]
  },
  {
   "cell_type": "code",
   "execution_count": null,
   "metadata": {},
   "outputs": [],
   "source": [
    "cv2.imwrite('result/negativo_q1.png', negative)\n",
    "\n",
    "cv2.imshow('negativo',negative)\n",
    "cv2.imshow('original',img1)\n",
    "cv2.waitKey(0)\n",
    "cv2.destroyAllWindows()"
   ]
  },
  {
   "attachments": {},
   "cell_type": "markdown",
   "metadata": {},
   "source": [
    "Q2"
   ]
  },
  {
   "cell_type": "code",
   "execution_count": null,
   "metadata": {},
   "outputs": [],
   "source": [
    "def image_gama(image, gama):\n",
    "    global maxi\n",
    "    c = (maxi)**(1-gama)\n",
    "    for p in range(len(image)):\n",
    "        for u in range(len(image[p])):\n",
    "            image[p][u] = c * ((image[p][u])**gama)\n",
    "            image[p][u] = round(image[p][u])\n",
    "    return image"
   ]
  },
  {
   "cell_type": "code",
   "execution_count": null,
   "metadata": {},
   "outputs": [],
   "source": [
    "img1=cv2.imread('/home/laisy/Documentos/RP/RP-2022.1/semana 10/imagens/Fig0308(a)(fractured_spine).png', cv2.IMREAD_GRAYSCALE)\n"
   ]
  },
  {
   "attachments": {},
   "cell_type": "markdown",
   "metadata": {},
   "source": [
    "γ = 0,6"
   ]
  },
  {
   "cell_type": "code",
   "execution_count": null,
   "metadata": {},
   "outputs": [],
   "source": [
    "gama_aux1 = input_type_conversation(img1)\n",
    "gama1 = image_gama(gama_aux1, 0.6)\n",
    "gama1 = output_type_conversation(gama1)"
   ]
  },
  {
   "attachments": {},
   "cell_type": "markdown",
   "metadata": {},
   "source": [
    "γ = 0,5"
   ]
  },
  {
   "cell_type": "code",
   "execution_count": null,
   "metadata": {},
   "outputs": [],
   "source": [
    "gama_aux2 = input_type_conversation(img1)\n",
    "gama2 = image_gama(gama_aux2, 0.5)\n",
    "gama2 = output_type_conversation(gama2)"
   ]
  },
  {
   "attachments": {},
   "cell_type": "markdown",
   "metadata": {},
   "source": [
    "γ = 0,4"
   ]
  },
  {
   "cell_type": "code",
   "execution_count": null,
   "metadata": {},
   "outputs": [],
   "source": [
    "gama_aux3 = input_type_conversation(img1)\n",
    "gama3 = image_gama(gama_aux3, 0.4)\n",
    "gama3 = output_type_conversation(gama3)"
   ]
  },
  {
   "cell_type": "code",
   "execution_count": null,
   "metadata": {},
   "outputs": [],
   "source": [
    "cv2.imwrite('result/gama_q2.png', gama1)\n",
    "cv2.imwrite('result/gama2_q2.png', gama2)\n",
    "cv2.imwrite('result/gama3_q2.png', gama3)"
   ]
  },
  {
   "cell_type": "code",
   "execution_count": null,
   "metadata": {},
   "outputs": [],
   "source": [
    "cv2.imshow('gama_q2 - Y = 0,6',gama1)\n",
    "cv2.imshow('gama2_q2 - Y = 0,5',gama2)\n",
    "cv2.imshow('gama3_q2 - Y = 0,4',gama3)\n",
    "cv2.waitKey(0)\n",
    "cv2.destroyAllWindows()"
   ]
  },
  {
   "attachments": {},
   "cell_type": "markdown",
   "metadata": {},
   "source": [
    "Q3 - INCOMPLETA"
   ]
  },
  {
   "attachments": {},
   "cell_type": "markdown",
   "metadata": {},
   "source": [
    "Obs: A imagem tá ficando toda preta"
   ]
  },
  {
   "cell_type": "code",
   "execution_count": null,
   "metadata": {},
   "outputs": [],
   "source": [
    "def log_image_transformation(image, gama):\n",
    "    global maxi\n",
    "    c = (maxi)/(math.log(maxi))\n",
    "    for p in range(len(image)):\n",
    "        for u in range(len(image[p])):\n",
    "            image[p][u] = math.exp((math.log(image[p][u]+0.001))/(math.pow((image[p][u]),gama)+0.001))\n",
    "            image[p][u] = round(image[p][u])\n",
    "    return image\n"
   ]
  },
  {
   "cell_type": "code",
   "execution_count": null,
   "metadata": {},
   "outputs": [],
   "source": [
    "img1=cv2.imread('/home/laisy/Documentos/RP/RP-2022.1/semana 10/imagens/Fig0308(a)(fractured_spine).png', cv2.IMREAD_GRAYSCALE)\n"
   ]
  },
  {
   "attachments": {},
   "cell_type": "markdown",
   "metadata": {},
   "source": [
    "γ = 0,6"
   ]
  },
  {
   "cell_type": "code",
   "execution_count": null,
   "metadata": {},
   "outputs": [],
   "source": [
    "log = input_type_conversation(img1)\n",
    "log1 = log_image_transformation(log, 0.6)\n",
    "log1 = output_type_conversation(log1)"
   ]
  },
  {
   "cell_type": "code",
   "execution_count": null,
   "metadata": {},
   "outputs": [],
   "source": [
    "cv2.imwrite('result/log_06_q3.png', log1)\n",
    "\n",
    "cv2.imshow('log1',log1)\n",
    "cv2.imshow('original',img1)\n",
    "cv2.waitKey(0)\n",
    "cv2.destroyAllWindows()"
   ]
  },
  {
   "attachments": {},
   "cell_type": "markdown",
   "metadata": {},
   "source": [
    "γ = 0,5"
   ]
  },
  {
   "cell_type": "code",
   "execution_count": null,
   "metadata": {},
   "outputs": [],
   "source": [
    "log = input_type_conversation(img1)\n",
    "log2 = log_image_transformation(log, 0.5)\n",
    "log2 = output_type_conversation(log2)"
   ]
  },
  {
   "cell_type": "code",
   "execution_count": null,
   "metadata": {},
   "outputs": [],
   "source": [
    "cv2.imwrite('result/log_05_q3.png', log2)\n",
    "\n",
    "cv2.imshow('log2',log2)\n",
    "cv2.waitKey(0)\n",
    "cv2.destroyAllWindows()"
   ]
  },
  {
   "attachments": {},
   "cell_type": "markdown",
   "metadata": {},
   "source": [
    "γ = 0,4"
   ]
  },
  {
   "attachments": {},
   "cell_type": "markdown",
   "metadata": {},
   "source": [
    "log = input_type_conversation(img1)\n",
    "log3 = log_image_transformation(log, 0.4)\n",
    "log3 = output_type_conversation(log3)"
   ]
  },
  {
   "cell_type": "code",
   "execution_count": null,
   "metadata": {},
   "outputs": [],
   "source": [
    "cv2.imwrite('result/log_04_q3.png', log3)\n",
    "\n",
    "cv2.imshow('log3',log3)\n",
    "cv2.waitKey(0)\n",
    "cv2.destroyAllWindows()"
   ]
  },
  {
   "attachments": {},
   "cell_type": "markdown",
   "metadata": {},
   "source": [
    "Q4"
   ]
  },
  {
   "cell_type": "code",
   "execution_count": 2,
   "metadata": {},
   "outputs": [],
   "source": [
    "import numpy as np\n",
    "import cv2\n",
    "import math\n",
    "\n",
    "# γ = 3, γ = 4 e γ = 5.\n",
    "\n",
    "maxi = 0\n",
    "mini = 255\n",
    "\n",
    "def output_type_conversation(image):\n",
    "    for k in range(len(image)):\n",
    "        for z in range(len(image[k])):\n",
    "            image[k][z] = np.uint8(image[k][z])\n",
    "\n",
    "    return np.array(image)\n",
    "\n",
    "def input_type_conversation(image):\n",
    "    array_aux = []\n",
    "    global maxi\n",
    "    global mini\n",
    "    for x in range(len(image)):\n",
    "        for y in range(len(image[x])):\n",
    "            maxi = max(maxi, image[x][y])\n",
    "            mini = min(mini, image[x][y])\n",
    "    for y in range(len(image)):\n",
    "        array_aux.append(image[y].tolist())\n",
    "        for z in range(len(image[y])):\n",
    "            array_aux[y][z] = (int(image[y][z]))\n",
    "    \n",
    "    return array_aux\n",
    "\n",
    "def image_gama(image, gama):\n",
    "    global maxi\n",
    "    c = math.pow((maxi), 1-gama)\n",
    "    for p in range(len(image)):\n",
    "        for u in range(len(image[p])):\n",
    "            image[p][u] = c * (math.pow((image[p][u]),gama))\n",
    "            image[p][u] = round(image[p][u])\n",
    "    return image\n"
   ]
  },
  {
   "cell_type": "code",
   "execution_count": 3,
   "metadata": {},
   "outputs": [],
   "source": [
    "img=cv2.imread('/home/laisy/Documentos/RP/RP-2022.1/semana 10/imagens/Fig0309(a)(washed_out_aerial_image).png', cv2.IMREAD_GRAYSCALE)"
   ]
  },
  {
   "cell_type": "code",
   "execution_count": 4,
   "metadata": {},
   "outputs": [],
   "source": [
    "gama_aux3 = input_type_conversation(img)\n",
    "gama_3 = image_gama(gama_aux3, 5)\n",
    "gama_3 = output_type_conversation(gama_3)\n",
    "\n",
    "gama_aux4 = input_type_conversation(img)\n",
    "gama_4 = image_gama(gama_aux4, 4)\n",
    "gama_4 = output_type_conversation(gama_4)\n",
    "\n",
    "gama_aux5 = input_type_conversation(img)\n",
    "gama_5 = image_gama(gama_aux5, 3)\n",
    "gama_5 = output_type_conversation(gama_5)\n",
    "\n",
    "cv2.imwrite('result/gama_3_q4.png', gama_3)\n",
    "cv2.imwrite('result/gama_4_q4.png', gama_4)\n",
    "cv2.imwrite('result/gama_5_q4.png', gama_5)\n",
    "\n",
    "cv2.imshow('original',img)\n",
    "cv2.imshow('gama_3',gama_3)\n",
    "cv2.imshow('gama_4',gama_4)\n",
    "cv2.imshow('gama_5',gama_5)\n",
    "cv2.waitKey(0)\n",
    "cv2.destroyAllWindows()"
   ]
  },
  {
   "attachments": {},
   "cell_type": "markdown",
   "metadata": {},
   "source": [
    "Q5"
   ]
  },
  {
   "attachments": {},
   "cell_type": "markdown",
   "metadata": {},
   "source": [
    "γ = 3, γ = 4 e γ = 5"
   ]
  },
  {
   "attachments": {},
   "cell_type": "markdown",
   "metadata": {},
   "source": [
    "FUNÇÕES"
   ]
  },
  {
   "cell_type": "code",
   "execution_count": 1,
   "metadata": {},
   "outputs": [],
   "source": [
    "import numpy as np\n",
    "import cv2\n",
    "\n",
    "maxi = 0\n",
    "mini = 255\n",
    "\n",
    "def output_type_conversation(image):\n",
    "    for k in range(len(image)):\n",
    "        for z in range(len(image[k])):\n",
    "            image[k][z] = np.uint8(image[k][z])\n",
    "\n",
    "    return np.array(image)\n",
    "\n",
    "def input_type_conversation(image):\n",
    "    array_aux = []\n",
    "    global maxi\n",
    "    global mini\n",
    "    for x in range(len(image)):\n",
    "        for y in range(len(image[x])):\n",
    "            for u in range(len(image[x][y])):\n",
    "                maxi = max(maxi, image[x][y][u])\n",
    "                mini = min(mini, image[x][y][u])\n",
    "    for y in range(len(image)):\n",
    "        array_aux.append(image[y].tolist())\n",
    "        for z in range(len(image[y])):\n",
    "            array_aux[y][z] = ((image[y][z]).tolist())\n",
    "            for u in range(len(image[y][z])):\n",
    "                array_aux[y][z][u] = int(image[y][z][u])\n",
    "    \n",
    "    return array_aux\n",
    "\n",
    "def image_gama(image, gama):\n",
    "    global maxi\n",
    "    c = (maxi)**(1-gama)\n",
    "    for p in range(len(image)):\n",
    "        for u in range(len(image[p])):\n",
    "            for z in range(len(image[p][u])):\n",
    "                image[p][u][z] = c * ((image[p][u][z])**gama)\n",
    "                image[p][u][z] = round(image[p][u][z])\n",
    "    return image"
   ]
  },
  {
   "cell_type": "code",
   "execution_count": 2,
   "metadata": {},
   "outputs": [],
   "source": [
    "img=cv2.imread('/home/laisy/Documentos/RP/RP-2022.1/semana 10/imagens/a4d88a27b6e6f33558a8e675b742-1458995.jpg')"
   ]
  },
  {
   "cell_type": "code",
   "execution_count": 3,
   "metadata": {},
   "outputs": [],
   "source": [
    "gama_aux08 = input_type_conversation(img)\n",
    "gama08 = image_gama(gama_aux08, 0.8)\n",
    "gama08 = output_type_conversation(gama08)\n",
    "\n",
    "gama_aux06 = input_type_conversation(img)\n",
    "gama06 = image_gama(gama_aux06, 0.6)\n",
    "gama06 = output_type_conversation(gama06)\n",
    "\n",
    "gama_aux05 = input_type_conversation(img)\n",
    "gama05 = image_gama(gama_aux05, 0.5)\n",
    "gama05 = output_type_conversation(gama05)\n",
    "\n",
    "gama_aux04 = input_type_conversation(img)\n",
    "gama04 = image_gama(gama_aux04, 0.4)\n",
    "gama04 = output_type_conversation(gama04)\n",
    "\n",
    "gama_aux02 = input_type_conversation(img)\n",
    "gama02 = image_gama(gama_aux02, 0.2)\n",
    "gama02 = output_type_conversation(gama02)\n",
    "\n",
    "cv2.imwrite('result/gama08_q5.png', gama08)\n",
    "cv2.imwrite('result/gama06_q5.png', gama06)\n",
    "cv2.imwrite('result/gama05_q5.png', gama05)\n",
    "cv2.imwrite('result/gama04_q5.png', gama04)\n",
    "cv2.imwrite('result/gama02_q5.png', gama02)\n",
    "\n",
    "cv2.imshow('original',img)\n",
    "cv2.imshow('gama_08_q5',gama08)\n",
    "cv2.imshow('gama_06_q5',gama06)\n",
    "cv2.imshow('gama_05_q5',gama05)\n",
    "cv2.imshow('gama_04_q5',gama04)\n",
    "cv2.imshow('gama_02_q5',gama02)\n",
    "\n",
    "cv2.waitKey(0)\n",
    "cv2.destroyAllWindows()"
   ]
  },
  {
   "attachments": {},
   "cell_type": "markdown",
   "metadata": {},
   "source": [
    "Q6"
   ]
  },
  {
   "cell_type": "code",
   "execution_count": 1,
   "metadata": {},
   "outputs": [],
   "source": [
    "import numpy as np\n",
    "import cv2\n",
    "import math\n",
    "\n",
    "maxi = 0\n",
    "mini = 255\n",
    "\n",
    "def output_type_conversation(image):\n",
    "    for k in range(len(image)):\n",
    "        for z in range(len(image[k])):\n",
    "            image[k][z] = np.uint8(image[k][z])\n",
    "\n",
    "    return np.array(image)\n",
    "\n",
    "def input_type_conversation(image):\n",
    "    array_aux = []\n",
    "    global maxi\n",
    "    global mini\n",
    "    for x in range(len(image)):\n",
    "        for y in range(len(image[x])):\n",
    "            maxi = max(maxi, image[x][y])\n",
    "            mini = min(mini, image[x][y])\n",
    "    for y in range(len(image)):\n",
    "        array_aux.append(image[y].tolist())\n",
    "        for z in range(len(image[y])):\n",
    "            array_aux[y][z] = (int(image[y][z]))\n",
    "    \n",
    "    return array_aux\n"
   ]
  },
  {
   "attachments": {},
   "cell_type": "markdown",
   "metadata": {},
   "source": [
    "0, 5r , r < 64\n",
    "1, 5r − 65 , 64 ≤ r ≤ 192\n",
    "0, 5r + 128 , r > 192"
   ]
  },
  {
   "cell_type": "code",
   "execution_count": 2,
   "metadata": {},
   "outputs": [],
   "source": [
    "def transformacao_de_imagens_alg_a(image):\n",
    "    for p in range(len(image)):\n",
    "        for u in range(len(image[p])):\n",
    "            # 5r , r < 64\n",
    "            if (image[p][u] < 64):\n",
    "                image[p][u] = 0.5*image[p][u]\n",
    "            # 5r − 65 , 64 ≤ r ≤ 192\n",
    "            elif (image[p][u] >= 64 and image[p][u] <= 192):\n",
    "                image[p][u] = 1.5*image[p][u] - 65\n",
    "            # 5r + 128 , r > 192\n",
    "            elif(image[p][u] > 192):\n",
    "                image[p][u] = 0.5*image[p][u] + 128\n",
    "\n",
    "            image[p][u] = round(image[p][u])\n",
    "    return image\n"
   ]
  },
  {
   "attachments": {},
   "cell_type": "markdown",
   "metadata": {},
   "source": [
    "0 , r < 107\n",
    "255 , r ≥ 107"
   ]
  },
  {
   "cell_type": "code",
   "execution_count": 3,
   "metadata": {},
   "outputs": [],
   "source": [
    "def transformacao_de_imagens_alg_b(image):\n",
    "    for p in range(len(image)):\n",
    "        for u in range(len(image[p])):\n",
    "            # r < 107\n",
    "            if (image[p][u] < 107):\n",
    "                image[p][u] = 0\n",
    "            # r ≥ 107\n",
    "            elif (image[p][u] >= 107):\n",
    "                image[p][u] = 255\n",
    "\n",
    "            image[p][u] = round(image[p][u])\n",
    "    return image"
   ]
  },
  {
   "cell_type": "code",
   "execution_count": 4,
   "metadata": {},
   "outputs": [],
   "source": [
    "img=cv2.imread('/home/laisy/Documentos/RP/RP-2022.1/semana 10/imagens/Fig0310(b)(washed_out_pollen_image).png', cv2.IMREAD_GRAYSCALE)"
   ]
  },
  {
   "cell_type": "code",
   "execution_count": 6,
   "metadata": {},
   "outputs": [
    {
     "data": {
      "text/plain": [
       "True"
      ]
     },
     "execution_count": 6,
     "metadata": {},
     "output_type": "execute_result"
    }
   ],
   "source": [
    "a_aux1 = input_type_conversation(img)\n",
    "a = transformacao_de_imagens_alg_a(a_aux1)\n",
    "a = output_type_conversation(a)\n",
    "\n",
    "cv2.imwrite('result/a_q6.png', a)\n"
   ]
  },
  {
   "cell_type": "code",
   "execution_count": 7,
   "metadata": {},
   "outputs": [
    {
     "data": {
      "text/plain": [
       "True"
      ]
     },
     "execution_count": 7,
     "metadata": {},
     "output_type": "execute_result"
    }
   ],
   "source": [
    "b_aux2 = input_type_conversation(img)\n",
    "b = transformacao_de_imagens_alg_b(b_aux2)\n",
    "b = output_type_conversation(b)\n",
    "\n",
    "\n",
    "cv2.imwrite('result/b_q6.png', b)"
   ]
  },
  {
   "cell_type": "code",
   "execution_count": 8,
   "metadata": {},
   "outputs": [],
   "source": [
    "cv2.imshow('(a)',a)\n",
    "cv2.imshow('(b)',b)\n",
    "cv2.imshow('original',img)\n",
    "cv2.waitKey(0)\n",
    "cv2.destroyAllWindows()"
   ]
  },
  {
   "attachments": {},
   "cell_type": "markdown",
   "metadata": {},
   "source": [
    "Q7"
   ]
  },
  {
   "cell_type": "code",
   "execution_count": 1,
   "metadata": {},
   "outputs": [],
   "source": [
    "import numpy as np\n",
    "import cv2\n",
    "import math\n",
    "\n",
    "maxi = 0\n",
    "mini = 255\n",
    "\n",
    "def output_type_conversation(image):\n",
    "    for k in range(len(image)):\n",
    "        for z in range(len(image[k])):\n",
    "            image[k][z] = np.uint8(image[k][z])\n",
    "\n",
    "    return np.array(image)\n",
    "\n",
    "def input_type_conversation(image):\n",
    "    array_aux = []\n",
    "    global maxi\n",
    "    global mini\n",
    "    for x in range(len(image)):\n",
    "        for y in range(len(image[x])):\n",
    "            maxi = max(maxi, image[x][y])\n",
    "            mini = min(mini, image[x][y])\n",
    "    for y in range(len(image)):\n",
    "        array_aux.append(image[y].tolist())\n",
    "        for z in range(len(image[y])):\n",
    "            array_aux[y][z] = (int(image[y][z]))\n",
    "    \n",
    "    return array_aux\n"
   ]
  },
  {
   "cell_type": "code",
   "execution_count": 2,
   "metadata": {},
   "outputs": [],
   "source": [
    "def fatiamento_esquerdo(image):\n",
    "    global maxi\n",
    "    divisao = (maxi)/5\n",
    "    divisao2 = divisao/2\n",
    "    for p in range(len(image)):\n",
    "        for u in range(len(image[p])):\n",
    "            if (image[p][u] > 2*divisao and image[p][u] < (3*divisao)+divisao2):\n",
    "                image[p][u] = 153\n",
    "            else:\n",
    "                image[p][u] = 25\n",
    "\n",
    "            image[p][u] = round(image[p][u])\n",
    "    return image\n",
    "\n",
    "def fatiamento_direito(image):\n",
    "    global maxi\n",
    "    divisao = round((maxi)/5)\n",
    "    divisao2 = round(divisao/2)\n",
    "    for p in range(len(image)):\n",
    "        for u in range(len(image[p])):   \n",
    "            if ((image[p][u] > divisao + divisao2) and (image[p][u] < 2*divisao + divisao2)):\n",
    "                image[p][u] = 204\n",
    "                \n",
    "\n",
    "            image[p][u] = round(image[p][u])\n",
    "    return image"
   ]
  },
  {
   "cell_type": "code",
   "execution_count": 3,
   "metadata": {},
   "outputs": [],
   "source": [
    "img=cv2.imread('/home/laisy/Documentos/RP/RP-2022.1/semana 10/imagens/Fig0312(a)(kidney).png', cv2.IMREAD_GRAYSCALE)"
   ]
  },
  {
   "cell_type": "code",
   "execution_count": 4,
   "metadata": {},
   "outputs": [
    {
     "data": {
      "text/plain": [
       "True"
      ]
     },
     "execution_count": 4,
     "metadata": {},
     "output_type": "execute_result"
    }
   ],
   "source": [
    "esquerda_aux1 = input_type_conversation(img)\n",
    "esquerda = fatiamento_esquerdo(esquerda_aux1)\n",
    "esquerda = output_type_conversation(esquerda)\n",
    "\n",
    "cv2.imwrite('result/esquerda_q7.png', esquerda)\n"
   ]
  },
  {
   "cell_type": "code",
   "execution_count": 6,
   "metadata": {},
   "outputs": [
    {
     "data": {
      "text/plain": [
       "True"
      ]
     },
     "execution_count": 6,
     "metadata": {},
     "output_type": "execute_result"
    }
   ],
   "source": [
    "direita_aux2 = input_type_conversation(img)\n",
    "direita = fatiamento_direito(direita_aux2)\n",
    "direita = output_type_conversation(direita)\n",
    "\n",
    "\n",
    "cv2.imwrite('result/direita_q7.png', direita)"
   ]
  },
  {
   "cell_type": "code",
   "execution_count": 8,
   "metadata": {},
   "outputs": [],
   "source": [
    "cv2.imshow('esquerda',esquerda)\n",
    "cv2.imshow('direta',direita)\n",
    "cv2.imshow('original',img)\n",
    "cv2.waitKey(0)\n",
    "cv2.destroyAllWindows()"
   ]
  },
  {
   "attachments": {},
   "cell_type": "markdown",
   "metadata": {},
   "source": [
    "Q8"
   ]
  },
  {
   "cell_type": "code",
   "execution_count": 1,
   "metadata": {},
   "outputs": [],
   "source": [
    "import numpy as np\n",
    "import cv2\n",
    "\n",
    "img = cv2.imread('/home/laisy/Documentos/RP/RP-2022.1/semana 10/imagens/Fig0314(a)(100-dollars).png', cv2.IMREAD_GRAYSCALE) "
   ]
  },
  {
   "cell_type": "code",
   "execution_count": 2,
   "metadata": {},
   "outputs": [],
   "source": [
    "out = []\n",
    "\n",
    "for x in range(len(img)):\n",
    "    for y in range(len(img[x])):\n",
    "        # Transformação de todos os pixels da imagem em números binários de 8 bits\n",
    "        out.append(np.binary_repr(img[x][y], width = 8))"
   ]
  },
  {
   "cell_type": "code",
   "execution_count": 3,
   "metadata": {},
   "outputs": [],
   "source": [
    "img_plan_8 = []\n",
    "img_plan_7 = []\n",
    "img_plan_6 = []\n",
    "img_plan_5 = []\n",
    "img_plan_4 = []\n",
    "img_plan_3 = []\n",
    "img_plan_2 = []\n",
    "img_plan_1 = []\n",
    "\n",
    "for x in out:\n",
    "    img_plan_8.append(int(x[0]))\n",
    "    img_plan_7.append(int(x[1]))\n",
    "    img_plan_6.append(int(x[2]))\n",
    "    img_plan_5.append(int(x[3]))\n",
    "    img_plan_4.append(int(x[4]))\n",
    "    img_plan_3.append(int(x[5]))\n",
    "    img_plan_2.append(int(x[6]))\n",
    "    img_plan_1.append(int(x[7]))"
   ]
  },
  {
   "cell_type": "code",
   "execution_count": 4,
   "metadata": {},
   "outputs": [],
   "source": [
    "# x Potência de 2\n",
    "# Transformação em Matriz\n",
    "img_plan_8 = (np.array(img_plan_8, dtype=np.uint8) * (2 ** 7)).reshape(img.shape[0], img.shape[1])\n",
    "img_plan_7 = (np.array(img_plan_7, dtype=np.uint8) * (2 ** 6)).reshape(img.shape[0], img.shape[1])\n",
    "img_plan_6 = (np.array(img_plan_6, dtype=np.uint8) * (2 ** 5)).reshape(img.shape[0], img.shape[1])\n",
    "img_plan_5 = (np.array(img_plan_5, dtype=np.uint8) * (2 ** 4)).reshape(img.shape[0], img.shape[1])\n",
    "img_plan_4 = (np.array(img_plan_4, dtype=np.uint8) * (2 ** 3)).reshape(img.shape[0], img.shape[1])\n",
    "img_plan_3 = (np.array(img_plan_3, dtype=np.uint8) * (2 ** 2)).reshape(img.shape[0], img.shape[1])\n",
    "img_plan_2 = (np.array(img_plan_2, dtype=np.uint8) * (2 ** 1)).reshape(img.shape[0], img.shape[1])\n",
    "img_plan_1 = (np.array(img_plan_1, dtype=np.uint8) * (2 ** 0)).reshape(img.shape[0], img.shape[1])"
   ]
  },
  {
   "cell_type": "code",
   "execution_count": 5,
   "metadata": {},
   "outputs": [],
   "source": [
    "img_plan_1 = img_plan_1 * 255\n",
    "img_plan_2 = img_plan_2 * 255\n",
    "img_plan_3 = img_plan_3 * 255\n",
    "img_plan_4 = img_plan_4 * 255\n",
    "img_plan_5 = img_plan_5 * 255\n",
    "img_plan_6 = img_plan_6 * 255\n",
    "img_plan_7 = img_plan_7 * 255"
   ]
  },
  {
   "cell_type": "code",
   "execution_count": null,
   "metadata": {},
   "outputs": [],
   "source": [
    "cv2.imwrite('result/img_plan_8.png', img_plan_8)\n",
    "cv2.imwrite('result/img_plan_7.png', img_plan_7)\n",
    "cv2.imwrite('result/img_plan_6.png', img_plan_6)\n",
    "cv2.imwrite('result/img_plan_5.png', img_plan_5)\n",
    "cv2.imwrite('result/img_plan_4.png', img_plan_4)\n",
    "cv2.imwrite('result/img_plan_3.png', img_plan_3)\n",
    "cv2.imwrite('result/img_plan_2.png', img_plan_2)\n",
    "cv2.imwrite('result/img_plan_1.png', img_plan_1)"
   ]
  },
  {
   "cell_type": "code",
   "execution_count": null,
   "metadata": {},
   "outputs": [],
   "source": [
    "cv2.waitKey(0)\n",
    "cv2.destroyAllWindows()"
   ]
  },
  {
   "attachments": {},
   "cell_type": "markdown",
   "metadata": {},
   "source": [
    "cv2.imshow(\"PLANO 8\", img_plan_8)\n",
    "cv2.imshow(\"PLANO 7\", img_plan_7)\n",
    "cv2.imshow(\"PLANO 6\", img_plan_6)\n",
    "cv2.imshow(\"PLANO 5\", img_plan_5)\n",
    "cv2.imshow(\"PLANO 4\", img_plan_4)\n",
    "cv2.imshow(\"PLANO 3\", img_plan_3)\n",
    "cv2.imshow(\"PLANO 2\", img_plan_2)\n",
    "cv2.imshow(\"PLANO 1\", img_plan_1)"
   ]
  },
  {
   "attachments": {},
   "cell_type": "markdown",
   "metadata": {},
   "source": [
    "Q9"
   ]
  },
  {
   "cell_type": "code",
   "execution_count": 6,
   "metadata": {},
   "outputs": [],
   "source": [
    "q9 = img_plan_8 + img_plan_7"
   ]
  },
  {
   "cell_type": "code",
   "execution_count": 7,
   "metadata": {},
   "outputs": [],
   "source": [
    "cv2.imwrite('result/plan_q9.png', q9)\n",
    "\n",
    "cv2.imshow(\"plan_8+plan_7\", q9)\n",
    "cv2.imshow(\"original\", img)\n",
    "\n",
    "cv2.waitKey(0)\n",
    "cv2.destroyAllWindows()"
   ]
  }
 ],
 "metadata": {
  "kernelspec": {
   "display_name": "Python 3",
   "language": "python",
   "name": "python3"
  },
  "language_info": {
   "codemirror_mode": {
    "name": "ipython",
    "version": 3
   },
   "file_extension": ".py",
   "mimetype": "text/x-python",
   "name": "python",
   "nbconvert_exporter": "python",
   "pygments_lexer": "ipython3",
   "version": "3.8.10"
  },
  "orig_nbformat": 4
 },
 "nbformat": 4,
 "nbformat_minor": 2
}
