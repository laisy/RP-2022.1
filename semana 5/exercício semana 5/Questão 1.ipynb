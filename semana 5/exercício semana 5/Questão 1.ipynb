{
 "cells": [
  {
   "cell_type": "code",
   "execution_count": 73,
   "metadata": {},
   "outputs": [],
   "source": [
    "import numpy as np\n",
    "\n",
    "import pandas as pd\n",
    "\n",
    "import math\n",
    "\n",
    "from sklearn.model_selection import train_test_split\n",
    "\n",
    "from scipy import stats\n",
    "\n",
    "from sklearn.neighbors import KNeighborsClassifier\n",
    "\n",
    "pd.options.mode.chained_assignment = None\n",
    "\n",
    "from IPython.display import HTML\n"
   ]
  },
  {
   "cell_type": "code",
   "execution_count": 74,
   "metadata": {},
   "outputs": [],
   "source": [
    "f = open(\"data/student-mat.csv\", \"r\")\n",
    "\n",
    "lines = f.readlines()\n",
    "\n",
    "for x in range(len(lines)):\n",
    "    lines[x] = lines[x].replace(';',',')\n",
    "\n",
    "f2 = open(\"data/student-mat-processado.csv\", \"w\")\n",
    "\n",
    "for x in lines:\n",
    "    f2.write(x)\n",
    "\n",
    "\n",
    "df = pd.read_csv(\"data/student-mat-processado.csv\")"
   ]
  },
  {
   "cell_type": "code",
   "execution_count": 75,
   "metadata": {},
   "outputs": [],
   "source": [
    "def converter_binario(coluna):\n",
    "    unicos = coluna.unique()\n",
    "    for x in range(len(coluna)):\n",
    "        if(coluna[x] == unicos[0]):\n",
    "            coluna[x] = -1\n",
    "        else:\n",
    "            coluna[x] = 1\n",
    "    return coluna\n",
    "\n",
    "def criar_novas_colunas(coluna, df):\n",
    "    for x in range(coluna.unique().size):\n",
    "        df[str(coluna.name)+ \"_\" + coluna.unique()[x]] = tamanho\n",
    "    return df\n",
    "\n",
    "def acrescentar_nome_valores(coluna):\n",
    "    for x in range(coluna.size):\n",
    "        coluna[x] = coluna.name + \"_\" + coluna[x]\n",
    "\n",
    "    return coluna   "
   ]
  },
  {
   "cell_type": "code",
   "execution_count": 76,
   "metadata": {},
   "outputs": [],
   "source": [
    "df.school = converter_binario(df.school)\n",
    "df.sex = converter_binario(df.sex)\n",
    "df.address = converter_binario(df.address)\n",
    "df.famsize = converter_binario(df.famsize)\n",
    "df.Pstatus = converter_binario(df.Pstatus)\n",
    "df.schoolsup = converter_binario(df.schoolsup)\n",
    "df.famsup = converter_binario(df.famsup)\n",
    "df.paid = converter_binario(df.paid)\n",
    "df.activities = converter_binario(df.activities)\n",
    "df.nursery = converter_binario(df.nursery)\n",
    "df.higher = converter_binario(df.higher)\n",
    "df.internet = converter_binario(df.internet)\n",
    "df.romantic = converter_binario(df.romantic)\n",
    "\n",
    "tamanho = []\n",
    "\n",
    "for y in range(df.Mjob.size):\n",
    "    tamanho.append(0)\n",
    "\n",
    "g3 = df.pop(\"G3\")\n",
    "\n",
    "df = criar_novas_colunas(df.Mjob, df)\n",
    "\n",
    "df = criar_novas_colunas(df.Fjob, df)\n",
    "\n",
    "df = criar_novas_colunas(df.reason, df)\n",
    "\n",
    "df = criar_novas_colunas(df.guardian, df)\n",
    "\n",
    "df.Mjob = acrescentar_nome_valores(df.Mjob)\n",
    "\n",
    "df.Fjob = acrescentar_nome_valores(df.Fjob)\n",
    "\n",
    "df.reason = acrescentar_nome_valores(df.reason)\n",
    "\n",
    "df.guardian = acrescentar_nome_valores(df.guardian)\n",
    "\n",
    "df[\"G3\"] = g3\n",
    "\n",
    "for index, row in df.iterrows():\n",
    "    df[row['Mjob']][index] = 1\n",
    "    df[row['Fjob']][index] = 1\n",
    "    df[row['reason']][index] = 1\n",
    "    df[row['guardian']][index] = 1\n",
    "\n",
    "#HTML(df.to_html(index=False))\n",
    "df = df.drop(columns=['Mjob', 'Fjob', 'reason', 'guardian']) # comentar essa e a próxima linha para comparar mais fácilmente antes de retirar essas colunas, retirar o comentário anterior\n",
    "\n",
    "#HTML(df.to_html(index=False))\n"
   ]
  },
  {
   "cell_type": "code",
   "execution_count": 77,
   "metadata": {},
   "outputs": [],
   "source": [
    "for x in range(df.G3.size):\n",
    "    if df.G3[x] < 14:\n",
    "        df.G3[x] = \"reprovado\"\n",
    "    else:\n",
    "        df.G3[x] = \"aprovado\"\n"
   ]
  },
  {
   "cell_type": "code",
   "execution_count": 78,
   "metadata": {},
   "outputs": [],
   "source": [
    "atributos = df[df.columns[:df.columns.size-1:]]\n",
    "\n",
    "classe = np.array(df[df.columns[-1::]]).flatten()\n"
   ]
  },
  {
   "cell_type": "code",
   "execution_count": 79,
   "metadata": {},
   "outputs": [],
   "source": [
    "def calcular_taxas_para_knn(k, qtd_taxas, porcent_test, atributos, classe):\n",
    "    array_taxas = []\n",
    "\n",
    "    for n in range(k):\n",
    "        arrays = []\n",
    "        for i in range(qtd_taxas):\n",
    "            x_treino, x_teste, y_treino, y_teste = train_test_split(atributos, classe,test_size=porcent_test, random_state=i)\n",
    "            classificador = KNeighborsClassifier(n_neighbors=n+1)\n",
    "            classificador.fit(x_treino, y_treino)\n",
    "            taxas = classificador.score(x_teste, y_teste)\n",
    "            arrays.append(taxas)\n",
    "\n",
    "        array_taxas.append(arrays)\n",
    "        \n",
    "    return array_taxas\n",
    "\n",
    "array_taxas = calcular_taxas_para_knn(1, 100, 0.5, atributos, classe)"
   ]
  },
  {
   "cell_type": "code",
   "execution_count": 80,
   "metadata": {},
   "outputs": [],
   "source": [
    "def calcular_intervalo_confianca(hash_medias, hash_diferencas_total):\n",
    "    for i in range(len(hash_medias)):\n",
    "        for x in range(len(hash_medias[i+1])):\n",
    "            \n",
    "            desvio_padrao = np.std(hash_diferencas_total[i+1][x])\n",
    "            \n",
    "            erro_padrao = desvio_padrao/np.sqrt(len(hash_diferencas_total[i+1][x]))\n",
    "\n",
    "            multiplicador = abs(stats.distributions.norm.ppf(0.025))\n",
    "\n",
    "            print(i+1, (hash_medias[i+1][x] - multiplicador*erro_padrao, hash_medias[i+1][x] + multiplicador*erro_padrao)\n",
    "            )\n"
   ]
  },
  {
   "cell_type": "code",
   "execution_count": 81,
   "metadata": {},
   "outputs": [],
   "source": [
    "def calcular_medias_separadas(array):\n",
    "\n",
    "    hash_saida = {}\n",
    "    array_aux = []\n",
    "    for x in range(len(array)):  \n",
    "        array_aux.append(np.mean(array[x]))\n",
    "        hash_saida[x+1] = array_aux\n",
    "        array_aux = []\n",
    "    return hash_saida\n",
    "\n",
    "medias_separadas = calcular_medias_separadas(array_taxas)"
   ]
  },
  {
   "cell_type": "code",
   "execution_count": 82,
   "metadata": {},
   "outputs": [
    {
     "name": "stdout",
     "output_type": "stream",
     "text": [
      "1 (0.9091940388431689, 0.9153514157022852)\n"
     ]
    }
   ],
   "source": [
    "hash_taxas = {}\n",
    "array_aux = []\n",
    "for x in range(len(array_taxas)):\n",
    "    array_aux.append(array_taxas[x])\n",
    "    hash_taxas[x+1] = array_aux\n",
    "    array_aux = []\n",
    "\n",
    "calcular_intervalo_confianca(medias_separadas, hash_taxas)"
   ]
  }
 ],
 "metadata": {
  "interpreter": {
   "hash": "1096d96948c228fd0d200fe0224c5b4749dc8f9f8502a0a25bea65f39e17c54a"
  },
  "kernelspec": {
   "display_name": "Python 3.10.2 64-bit",
   "language": "python",
   "name": "python3"
  },
  "language_info": {
   "codemirror_mode": {
    "name": "ipython",
    "version": 3
   },
   "file_extension": ".py",
   "mimetype": "text/x-python",
   "name": "python",
   "nbconvert_exporter": "python",
   "pygments_lexer": "ipython3",
   "version": "3.10.2"
  },
  "orig_nbformat": 4
 },
 "nbformat": 4,
 "nbformat_minor": 2
}
