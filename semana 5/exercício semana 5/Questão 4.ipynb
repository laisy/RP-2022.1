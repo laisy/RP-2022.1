{
 "cells": [
  {
   "cell_type": "code",
   "execution_count": 2,
   "metadata": {},
   "outputs": [],
   "source": [
    "import numpy as np\n",
    "\n",
    "import pandas as pd\n",
    "\n",
    "from sklearn.model_selection import train_test_split\n",
    "\n",
    "from scipy import stats\n",
    "\n",
    "from sklearn.neighbors import KNeighborsClassifier\n",
    "\n",
    "pd.options.mode.chained_assignment = None"
   ]
  },
  {
   "cell_type": "code",
   "execution_count": 3,
   "metadata": {},
   "outputs": [
    {
     "ename": "FileNotFoundError",
     "evalue": "[Errno 2] No such file or directory: 'data/hungarian.data'",
     "output_type": "error",
     "traceback": [
      "\u001b[1;31m---------------------------------------------------------------------------\u001b[0m",
      "\u001b[1;31mFileNotFoundError\u001b[0m                         Traceback (most recent call last)",
      "\u001b[1;32mc:\\Users\\david\\Desktop\\6º período\\RP\\códigos\\exercício semana 5\\Questão 4.ipynb Cell 2'\u001b[0m in \u001b[0;36m<cell line: 1>\u001b[1;34m()\u001b[0m\n\u001b[1;32m----> <a href='vscode-notebook-cell:/c%3A/Users/david/Desktop/6%C2%BA%20per%C3%ADodo/RP/c%C3%B3digos/exerc%C3%ADcio%20semana%205/Quest%C3%A3o%204.ipynb#ch0000001?line=0'>1</a>\u001b[0m file \u001b[39m=\u001b[39m \u001b[39mopen\u001b[39;49m(\u001b[39m\"\u001b[39;49m\u001b[39mdata/hungarian.data\u001b[39;49m\u001b[39m\"\u001b[39;49m, \u001b[39m\"\u001b[39;49m\u001b[39mr\u001b[39;49m\u001b[39m\"\u001b[39;49m)\n\u001b[0;32m      <a href='vscode-notebook-cell:/c%3A/Users/david/Desktop/6%C2%BA%20per%C3%ADodo/RP/c%C3%B3digos/exerc%C3%ADcio%20semana%205/Quest%C3%A3o%204.ipynb#ch0000001?line=2'>3</a>\u001b[0m lines \u001b[39m=\u001b[39m file\u001b[39m.\u001b[39mreadlines()\n\u001b[0;32m      <a href='vscode-notebook-cell:/c%3A/Users/david/Desktop/6%C2%BA%20per%C3%ADodo/RP/c%C3%B3digos/exerc%C3%ADcio%20semana%205/Quest%C3%A3o%204.ipynb#ch0000001?line=4'>5</a>\u001b[0m \u001b[39mfor\u001b[39;00m x \u001b[39min\u001b[39;00m \u001b[39mrange\u001b[39m(\u001b[39mlen\u001b[39m(lines)):\n",
      "\u001b[1;31mFileNotFoundError\u001b[0m: [Errno 2] No such file or directory: 'data/hungarian.data'"
     ]
    }
   ],
   "source": [
    "file = open(\"data/hungarian.data\", \"r\")\n",
    "\n",
    "lines = file.readlines()\n",
    "\n",
    "for x in range(len(lines)):\n",
    "    lines[x] = lines[x].replace(' ', ',')\n",
    "\n",
    "file.close()\n",
    "\n",
    "file = open(\"data/hungarian.data\", \"w\")\n",
    "\n",
    "for x in lines:\n",
    "    file.write(x)\n",
    "\n",
    "file.close()\n",
    "\n",
    "\n",
    "\n",
    "df = pd.read_csv(\"data/processed.hungarian.data\")\n",
    "\n",
    "\n",
    "\n",
    "df.columns = ['age', 'sex', 'chest_pain_type', 'resting_blood_pressure', 'cholesterol', 'fasting_blood_sugar', 'rest_ecg', 'max_heart_rate_achieved', 'exercise_induced_angina', 'st_depression', 'st_slope', 'num_major_vessels', 'thalassemia', 'target']\n",
    "\n",
    "df\n"
   ]
  },
  {
   "cell_type": "code",
   "execution_count": null,
   "metadata": {},
   "outputs": [
    {
     "name": "stdout",
     "output_type": "stream",
     "text": [
      "['?' '2' '1' '3']\n",
      "['1', '2', '3', '?']\n"
     ]
    }
   ],
   "source": [
    "array_aux_slope = []\n",
    "array_aux_slope = df.st_slope.unique()\n",
    "print(array_aux_slope)\n",
    "print(sorted(array_aux_slope))\n",
    "# for index1, row1 in df.iterrows():\n",
    "#     [\"st_slope\"]"
   ]
  },
  {
   "cell_type": "code",
   "execution_count": null,
   "metadata": {},
   "outputs": [
    {
     "ename": "NameError",
     "evalue": "name 'df' is not defined",
     "output_type": "error",
     "traceback": [
      "\u001b[1;31m---------------------------------------------------------------------------\u001b[0m",
      "\u001b[1;31mNameError\u001b[0m                                 Traceback (most recent call last)",
      "\u001b[1;32mc:\\Users\\david\\Desktop\\6º período\\RP\\códigos\\exercício semana 5\\Questão 4.ipynb Cell 4'\u001b[0m in \u001b[0;36m<cell line: 3>\u001b[1;34m()\u001b[0m\n\u001b[0;32m      <a href='vscode-notebook-cell:/c%3A/Users/david/Desktop/6%C2%BA%20per%C3%ADodo/RP/c%C3%B3digos/exerc%C3%ADcio%20semana%205/Quest%C3%A3o%204.ipynb#ch0000003?line=0'>1</a>\u001b[0m novas_colunas \u001b[39m=\u001b[39m []\n\u001b[1;32m----> <a href='vscode-notebook-cell:/c%3A/Users/david/Desktop/6%C2%BA%20per%C3%ADodo/RP/c%C3%B3digos/exerc%C3%ADcio%20semana%205/Quest%C3%A3o%204.ipynb#ch0000003?line=2'>3</a>\u001b[0m \u001b[39mfor\u001b[39;00m x \u001b[39min\u001b[39;00m \u001b[39mrange\u001b[39m(df\u001b[39m.\u001b[39mcomprar\u001b[39m.\u001b[39msize):\n\u001b[0;32m      <a href='vscode-notebook-cell:/c%3A/Users/david/Desktop/6%C2%BA%20per%C3%ADodo/RP/c%C3%B3digos/exerc%C3%ADcio%20semana%205/Quest%C3%A3o%204.ipynb#ch0000003?line=3'>4</a>\u001b[0m     novas_colunas\u001b[39m.\u001b[39mappend(\u001b[39m0\u001b[39m)\n\u001b[0;32m      <a href='vscode-notebook-cell:/c%3A/Users/david/Desktop/6%C2%BA%20per%C3%ADodo/RP/c%C3%B3digos/exerc%C3%ADcio%20semana%205/Quest%C3%A3o%204.ipynb#ch0000003?line=5'>6</a>\u001b[0m vhigh \u001b[39m=\u001b[39m novas_colunas\n",
      "\u001b[1;31mNameError\u001b[0m: name 'df' is not defined"
     ]
    }
   ],
   "source": [
    "novas_colunas = []\n",
    "\n",
    "for x in range(df.comprar.size):\n",
    "    novas_colunas.append(0)\n",
    "\n",
    "vhigh = novas_colunas\n",
    "\n",
    "high = novas_colunas\n",
    "\n",
    "med = novas_colunas\n",
    "\n",
    "low = novas_colunas\n",
    "\n",
    "novo_df = df.drop(columns=[\"comprar\", \"manutencao\"])\n",
    "\n",
    "novo_df=novo_df.assign(vhigh_comp = vhigh, high_comp = high, med_comp = med, low_comp = low)\n",
    "\n",
    "novo_df=novo_df.assign(vhigh_manu = vhigh, high_manu = high, med_manu = med, low_manu = low)\n",
    "\n",
    "\n",
    "novo_df"
   ]
  }
 ],
 "metadata": {
  "interpreter": {
   "hash": "1096d96948c228fd0d200fe0224c5b4749dc8f9f8502a0a25bea65f39e17c54a"
  },
  "kernelspec": {
   "display_name": "Python 3.10.2 64-bit",
   "language": "python",
   "name": "python3"
  },
  "language_info": {
   "codemirror_mode": {
    "name": "ipython",
    "version": 3
   },
   "file_extension": ".py",
   "mimetype": "text/x-python",
   "name": "python",
   "nbconvert_exporter": "python",
   "pygments_lexer": "ipython3",
   "version": "3.10.2"
  },
  "orig_nbformat": 4
 },
 "nbformat": 4,
 "nbformat_minor": 2
}
