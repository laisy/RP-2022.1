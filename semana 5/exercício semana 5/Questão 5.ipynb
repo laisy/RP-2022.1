{
 "cells": [
  {
   "cell_type": "code",
   "execution_count": 82,
   "metadata": {},
   "outputs": [],
   "source": [
    "import numpy as np\n",
    "\n",
    "import pandas as pd\n",
    "\n",
    "from sklearn.model_selection import train_test_split\n",
    "\n",
    "from scipy import stats\n",
    "\n",
    "from sklearn.neighbors import KNeighborsClassifier\n",
    "\n",
    "pd.options.mode.chained_assignment = None"
   ]
  },
  {
   "cell_type": "code",
   "execution_count": 83,
   "metadata": {},
   "outputs": [],
   "source": [
    "nomes_col = ['Class',\n",
    "             'Alcohol', \n",
    "             'Malic_acid',\n",
    "             'Ash', \n",
    "             'Alcalinity_of_ash', \n",
    "             'Magnesium', \n",
    "             'Total_phenols',\n",
    "             'Flavanoids',\n",
    "             'Nonflavanoid_phenols',\n",
    "             'Proanthocyanins',\n",
    "             'Color_intensity',\n",
    "             'Hue',\n",
    "             'AOD280_OD315_of_diluted_wines',\n",
    "             'Proline',\n",
    "            ]\n"
   ]
  },
  {
   "cell_type": "code",
   "execution_count": 84,
   "metadata": {},
   "outputs": [],
   "source": [
    "df = pd.read_csv(\"data/wine.data\", names=nomes_col)\n",
    "\n",
    "\n",
    "df_zero_um = df.copy()"
   ]
  },
  {
   "cell_type": "code",
   "execution_count": 85,
   "metadata": {},
   "outputs": [],
   "source": [
    "def divide_por_dezmil(coluna):\n",
    "    for x in range(coluna.size):\n",
    "        coluna[x] = coluna[x]/10000\n",
    "    return coluna\n",
    "\n",
    "def divide_por_mil(coluna):\n",
    "    for x in range(coluna.size):\n",
    "        coluna[x] = coluna[x]/1000\n",
    "    return coluna\n",
    "\n",
    "def divide_por_cem(coluna):\n",
    "    for x in range(coluna.size):\n",
    "        coluna[x] = coluna[x]/100\n",
    "    return coluna\n",
    "\n",
    "def divide_por_dez(coluna):\n",
    "    for x in range(coluna.size):\n",
    "        coluna[x] = coluna[x]/10\n",
    "    return coluna    "
   ]
  },
  {
   "cell_type": "code",
   "execution_count": 86,
   "metadata": {},
   "outputs": [],
   "source": [
    "df_zero_um.Proline = divide_por_dezmil(df_zero_um.Proline)\n",
    "df_zero_um.Magnesium = divide_por_mil(df_zero_um.Magnesium)\n",
    "df_zero_um.Alcalinity_of_ash = divide_por_cem(df_zero_um.Alcalinity_of_ash)\n",
    "df_zero_um.Alcohol = divide_por_cem(df_zero_um.Alcohol)\n",
    "df_zero_um.Malic_acid = divide_por_dez(df_zero_um.Malic_acid)\n",
    "df_zero_um.Ash = divide_por_dez(df_zero_um.Ash)\n",
    "df_zero_um.Total_phenols = divide_por_dez(df_zero_um.Total_phenols)\n",
    "df_zero_um.Flavanoids = divide_por_dez(df_zero_um.Flavanoids)\n",
    "df_zero_um.Proanthocyanins = divide_por_dez(df_zero_um.Proanthocyanins)\n",
    "df_zero_um.Color_intensity = divide_por_dez(df_zero_um.Color_intensity)\n",
    "df_zero_um.Hue = divide_por_dez(df_zero_um.Hue)\n",
    "df_zero_um.AOD280_OD315_of_diluted_wines= divide_por_dez(df_zero_um.AOD280_OD315_of_diluted_wines)\n"
   ]
  },
  {
   "cell_type": "code",
   "execution_count": 87,
   "metadata": {},
   "outputs": [],
   "source": [
    "y_df = df.pop(\"Class\")\n",
    "\n",
    "y_zero_um = df_zero_um.pop(\"Class\")"
   ]
  },
  {
   "cell_type": "code",
   "execution_count": 88,
   "metadata": {},
   "outputs": [],
   "source": [
    "def calcular_taxas_para_knn(k, qtd_taxas, porcent_test, atributos, classe):\n",
    "    array_taxas = []\n",
    "\n",
    "    for n in range(k):\n",
    "        arrays = []\n",
    "        for i in range(qtd_taxas):\n",
    "            x_treino, x_teste, y_treino, y_teste = train_test_split(atributos, classe,test_size=porcent_test, random_state=i)\n",
    "            classificador = KNeighborsClassifier(n_neighbors=n+1)\n",
    "            classificador.fit(x_treino, y_treino)\n",
    "            taxas = classificador.score(x_teste, y_teste)\n",
    "            arrays.append(taxas)\n",
    "\n",
    "        array_taxas.append(arrays)\n",
    "        \n",
    "    return array_taxas\n",
    "\n",
    "array_taxas_df = calcular_taxas_para_knn(1, 100, 0.5, df, y_df)\n",
    "\n",
    "array_taxas_zero_um = calcular_taxas_para_knn(1, 100, 0.5, df_zero_um, y_zero_um)"
   ]
  },
  {
   "cell_type": "code",
   "execution_count": 89,
   "metadata": {},
   "outputs": [],
   "source": [
    "def calcular_intervalo_confianca(hash_medias, hash_diferencas_total):\n",
    "    for i in range(len(hash_medias)):\n",
    "        for x in range(len(hash_medias[i+1])):\n",
    "            \n",
    "            desvio_padrao = np.std(hash_diferencas_total[i+1][x])\n",
    "            \n",
    "            erro_padrao = desvio_padrao/np.sqrt(len(hash_diferencas_total[i+1][x]))\n",
    "\n",
    "            multiplicador = abs(stats.distributions.norm.ppf(0.025))\n",
    "\n",
    "            print(i+1, (hash_medias[i+1][x] - multiplicador*erro_padrao, hash_medias[i+1][x] + multiplicador*erro_padrao)\n",
    "            )"
   ]
  },
  {
   "cell_type": "code",
   "execution_count": 90,
   "metadata": {},
   "outputs": [],
   "source": [
    "def calcular_medias_separadas(array):\n",
    "\n",
    "    hash_saida = {}\n",
    "    array_aux = []\n",
    "    for x in range(len(array)):  \n",
    "        array_aux.append(np.mean(array[x]))\n",
    "        hash_saida[x+1] = array_aux\n",
    "        array_aux = []\n",
    "    return hash_saida\n",
    "\n",
    "medias_separadas = calcular_medias_separadas(array_taxas_df)\n",
    "\n",
    "medias_separadas_zero_um = calcular_medias_separadas(array_taxas_zero_um)"
   ]
  },
  {
   "cell_type": "code",
   "execution_count": 91,
   "metadata": {},
   "outputs": [
    {
     "name": "stdout",
     "output_type": "stream",
     "text": [
      "1 (0.7083788816487575, 0.7266772981265237)\n",
      "1 (0.917809882487535, 0.9278080950405551)\n"
     ]
    }
   ],
   "source": [
    "hash_taxas = {}\n",
    "array_aux = []\n",
    "for x in range(len(array_taxas_df)):\n",
    "    array_aux.append(array_taxas_df[x])\n",
    "    hash_taxas[x+1] = array_aux\n",
    "    array_aux = []\n",
    "\n",
    "hash_taxas2 = {}\n",
    "array_aux2 = []\n",
    "for x in range(len(array_taxas_zero_um)):\n",
    "    array_aux2.append(array_taxas_zero_um[x])\n",
    "    hash_taxas2[x+1] = array_aux2\n",
    "    array_aux2 = []\n",
    "\n",
    "calcular_intervalo_confianca(medias_separadas, hash_taxas)\n",
    "calcular_intervalo_confianca(medias_separadas_zero_um, hash_taxas2)"
   ]
  }
 ],
 "metadata": {
  "interpreter": {
   "hash": "1096d96948c228fd0d200fe0224c5b4749dc8f9f8502a0a25bea65f39e17c54a"
  },
  "kernelspec": {
   "display_name": "Python 3.10.2 64-bit",
   "language": "python",
   "name": "python3"
  },
  "language_info": {
   "codemirror_mode": {
    "name": "ipython",
    "version": 3
   },
   "file_extension": ".py",
   "mimetype": "text/x-python",
   "name": "python",
   "nbconvert_exporter": "python",
   "pygments_lexer": "ipython3",
   "version": "3.10.2"
  },
  "orig_nbformat": 4
 },
 "nbformat": 4,
 "nbformat_minor": 2
}
