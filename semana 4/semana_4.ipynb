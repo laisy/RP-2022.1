{
 "cells": [
  {
   "attachments": {},
   "cell_type": "markdown",
   "metadata": {},
   "source": [
    "### 1. (25 pontos) Realize 100-fold cross validation estratificado na base Skin Segmentation utilizando o classi cador 1-NN com distância Euclidiana então realize os procedimentos abaixo. "
   ]
  },
  {
   "cell_type": "code",
   "execution_count": 43,
   "metadata": {},
   "outputs": [],
   "source": [
    "import numpy as np\n",
    "import pandas as pd\n",
    "from sklearn.model_selection import train_test_split, StratifiedKFold\n",
    "from sklearn.metrics import classification_report, confusion_matrix, recall_score, precision_score\n",
    "from sklearn.neighbors import KNeighborsClassifier\n",
    "from sklearn.preprocessing import StandardScaler\n",
    "from matplotlib import pyplot as plt\n",
    "from matplotlib import colors\n",
    "from matplotlib.ticker import PercentFormatter\n",
    "from scipy import stats"
   ]
  },
  {
   "cell_type": "code",
   "execution_count": 10,
   "metadata": {},
   "outputs": [],
   "source": [
    "# ------------------------------------ DADOS --------------------------------------\n",
    "\n",
    "names_columns = ['B', 'G', 'R', 'Class']\n",
    "\n",
    "df = pd.read_csv(\"Skin_NonSkin.csv\", names=names_columns)\n",
    "df.B.unique()\n",
    "\n",
    "x = np.array(df[df.columns[0:3:]])\n",
    "y = np.array(df[df.columns[-1::]]).flatten()\n",
    "\n",
    "# 100-fold cross validation estratificado\n",
    "skf = StratifiedKFold(n_splits = 100)\n",
    "# classificador 1-NN com distância Euclidiana\n",
    "classifier = KNeighborsClassifier(n_neighbors=1)"
   ]
  },
  {
   "attachments": {},
   "cell_type": "markdown",
   "metadata": {},
   "source": [
    "### (a) Mostre a média, o máximo e o mínimo da medida-F. "
   ]
  },
  {
   "cell_type": "code",
   "execution_count": 37,
   "metadata": {},
   "outputs": [],
   "source": [
    "def calc_f_measure(classifier):\n",
    "    list_rates = []\n",
    "    list_f_measure = []\n",
    "\n",
    "    for train_index, test_index in skf.split(x,y):\n",
    "        # TREINO\n",
    "        x_train = x[train_index]\n",
    "        y_train = y[train_index]\n",
    "        # TESTE\n",
    "        x_test = x[test_index]\n",
    "        y_test = y[test_index]\n",
    "\n",
    "        classifier.fit(x_train, y_train)\n",
    "        rate = classifier.score(x_test, y_test)\n",
    "        list_rates.append(rate)\n",
    "\n",
    "        y_pred = classifier.predict(x_test)\n",
    "        recall = recall_score(y_test, y_pred)\n",
    "        precision = precision_score(y_test, y_pred)\n",
    "\n",
    "        f_measure = ((2*precision*recall)/(precision+recall))\n",
    "        list_f_measure.append(f_measure)\n",
    "\n",
    "    average_fMeasure = np.mean(list_f_measure)\n",
    "    min_fMeasure = min(list_f_measure)\n",
    "    max_fMeasure = max(list_f_measure)\n",
    "\n",
    "    print(\"\\n MÉDIA: \\n\")\n",
    "    print(\"%.3f\" % average_fMeasure)\n",
    "    print(\"\\n MÁXIMO: \\n\")\n",
    "    print(\"%.3f\" % max_fMeasure)\n",
    "    print(\"\\n MÍNIMO: \\n\")\n",
    "    print(\"%.3f\" % min_fMeasure)\n",
    "\n",
    "    return list_f_measure, average_fMeasure"
   ]
  },
  {
   "cell_type": "code",
   "execution_count": 38,
   "metadata": {},
   "outputs": [
    {
     "name": "stdout",
     "output_type": "stream",
     "text": [
      "\n",
      " MÉDIA: \n",
      "\n",
      "0.998\n",
      "\n",
      " MÁXIMO: \n",
      "\n",
      "1.000\n",
      "\n",
      " MÍNIMO: \n",
      "\n",
      "0.977\n"
     ]
    }
   ],
   "source": [
    "list_f_measure, average_fMeasure = calc_f_measure(classifier)\n"
   ]
  },
  {
   "attachments": {},
   "cell_type": "markdown",
   "metadata": {},
   "source": [
    "### (b) Mostre o histograma da medida-F."
   ]
  },
  {
   "cell_type": "code",
   "execution_count": 27,
   "metadata": {},
   "outputs": [],
   "source": [
    "def histogram_f_measure(list_f_measure):\n",
    "    n_bins = len(list_f_measure)\n",
    "    fig, axs = plt.subplots(1, 2, sharey=True, tight_layout=True)\n",
    "    axs[0].hist(list_f_measure, bins=n_bins)"
   ]
  },
  {
   "cell_type": "code",
   "execution_count": 39,
   "metadata": {},
   "outputs": [
    {
     "data": {
      "image/png": "[encoded data removed]",
      "text/plain": [
       "<Figure size 640x480 with 2 Axes>"
      ]
     },
     "metadata": {},
     "output_type": "display_data"
    }
   ],
   "source": [
    "histogram_f_measure(list_f_measure)"
   ]
  },
  {
   "attachments": {},
   "cell_type": "markdown",
   "metadata": {},
   "source": [
    "### (c) Calcule o intervalo de confiança da medida-F."
   ]
  },
  {
   "cell_type": "code",
   "execution_count": 57,
   "metadata": {},
   "outputs": [],
   "source": [
    "def calc_confidence_interval(average_fMeasure, list_f_measure):\n",
    "    desvio_padrao = np.std(list_f_measure)\n",
    "    \n",
    "    erro_padrao = desvio_padrao/np.sqrt(len(list_f_measure))\n",
    "\n",
    "    multiplier = abs(stats.distributions.norm.ppf(0.025))\n",
    "\n",
    "    confidence_interval = (average_fMeasure - multiplier*erro_padrao, average_fMeasure + multiplier*erro_padrao)\n",
    "    print(\"\\n INTERVALO DE CONFIANÇA \\n\")\n",
    "    print(confidence_interval)\n",
    "\n",
    "    return confidence_interval"
   ]
  },
  {
   "cell_type": "code",
   "execution_count": 58,
   "metadata": {},
   "outputs": [
    {
     "name": "stdout",
     "output_type": "stream",
     "text": [
      "\n",
      " INTERVALO DE CONFIANÇA \n",
      "\n",
      "(0.997643082377952, 0.9989729820531587)\n"
     ]
    }
   ],
   "source": [
    "confidence_interval = calc_confidence_interval(average_fMeasure, list_f_measure)"
   ]
  },
  {
   "attachments": {},
   "cell_type": "markdown",
   "metadata": {},
   "source": [
    "### (d) Qual a medida-F mínima que você espera ao aplicar este classificador, sob as mesmas condições de treinamento, para dados nunca vistos?"
   ]
  },
  {
   "attachments": {},
   "cell_type": "markdown",
   "metadata": {},
   "source": [
    "O valor minimo do intervalo de confiança: 0.997643082377952"
   ]
  },
  {
   "attachments": {},
   "cell_type": "markdown",
   "metadata": {},
   "source": [
    "### (e) Qual a medida-F esperada para o classificador quando aplicada a dados nunca antes vistos. \n"
   ]
  },
  {
   "attachments": {},
   "cell_type": "markdown",
   "metadata": {},
   "source": [
    "Valores dentro do intervalo de confiança: (0.997643082377952, 0.9989729820531587)"
   ]
  },
  {
   "attachments": {},
   "cell_type": "markdown",
   "metadata": {},
   "source": [
    "### 2. (25 pontos) Realize um experimento pareado com 100 repetições de Holdout 50/50 utilizando o classi cador 1-NN com distância Euclidiana. Utilize duas versões da base Wine archive. ics.uci.edu/ml/datasets/Wine para este experimento, a primeira versão é a base original, a segunda versão é a base sem a última coluna. Após calcular 100 taxas de acero para cada uma das versões da base, realize os procedimentos abaixo. \n"
   ]
  },
  {
   "cell_type": "code",
   "execution_count": 61,
   "metadata": {},
   "outputs": [],
   "source": [
    "names_columns = ['Class', 'Alcohol', 'Malic acid', 'Ash', 'Alcalinity of ash', 'Magnesium', 'Total phenols', 'Flavanoids', 'Nonflavanoid phenols', 'Proanthocyanins', 'Color intensity', 'Hue', 'OD280/OD315 of diluted wines', 'Proline']\n",
    "\n",
    "df = pd.read_csv(\"wine.data\", names=names_columns)\n",
    "\n",
    "# v1\n",
    "y = np.array(df[df.columns[:1:]]).flatten()\n",
    "# v2\n",
    "y2 = df[df.columns[:1:]]\n"
   ]
  },
  {
   "cell_type": "code",
   "execution_count": null,
   "metadata": {},
   "outputs": [],
   "source": [
    "def calcular_taxas_removendo_colunas(dataframe, qtd_colunas_retiradas, qtd_taxas, porcent_test):\n",
    "    arrays = []\n",
    "    colunas = len(dataframe.columns)-1\n",
    "    classificador = KNeighborsClassifier(n_neighbors=1)\n",
    "    for n in range(qtd_colunas_retiradas):\n",
    "        array_taxas = []\n",
    "        x = (dataframe[dataframe.columns[1:colunas:]])\n",
    "        colunas -= 1\n",
    "        for i in range(qtd_taxas):\n",
    "            x_treino, x_teste, y_treino, y_teste = train_test_split (x, y,test_size=porcent_test, random_state=i)\n",
    "            classificador.fit(x_treino, y_treino)\n",
    "            taxas = classificador.score(x_teste, y_teste)\n",
    "            array_taxas.append(taxas)\n",
    "\n",
    "        arrays.append(array_taxas)\n",
    "\n",
    "    return arrays\n",
    "\n",
    "arrays_taxas = calcular_taxas_removendo_colunas(df, 2, 100, 0.5)"
   ]
  }
 ],
 "metadata": {
  "kernelspec": {
   "display_name": "Python 3",
   "language": "python",
   "name": "python3"
  },
  "language_info": {
   "codemirror_mode": {
    "name": "ipython",
    "version": 3
   },
   "file_extension": ".py",
   "mimetype": "text/x-python",
   "name": "python",
   "nbconvert_exporter": "python",
   "pygments_lexer": "ipython3",
   "version": "3.8.10"
  },
  "orig_nbformat": 4,
  "vscode": {
   "interpreter": {
    "hash": "916dbcbb3f70747c44a77c7bcd40155683ae19c65e1c03b4aa3499c5328201f1"
   }
  }
 },
 "nbformat": 4,
 "nbformat_minor": 2
}
