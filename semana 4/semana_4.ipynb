{
 "cells": [
  {
   "attachments": {},
   "cell_type": "markdown",
   "metadata": {},
   "source": [
    "### 1. (25 pontos) Realize 100-fold cross validation estratificado na base Skin Segmentation utilizando o classi cador 1-NN com distância Euclidiana então realize os procedimentos abaixo. "
   ]
  },
  {
   "cell_type": "code",
   "execution_count": 23,
   "metadata": {},
   "outputs": [],
   "source": [
    "import numpy as np\n",
    "import pandas as pd\n",
    "from sklearn.model_selection import train_test_split, StratifiedKFold\n",
    "from sklearn.metrics import classification_report, confusion_matrix, recall_score, precision_score\n",
    "from sklearn.neighbors import KNeighborsClassifier\n",
    "from sklearn.preprocessing import StandardScaler\n",
    "from matplotlib import pyplot as plt\n",
    "from matplotlib import colors\n",
    "from matplotlib.ticker import PercentFormatter\n",
    "from scipy import stats"
   ]
  },
  {
   "attachments": {},
   "cell_type": "markdown",
   "metadata": {},
   "source": [
    "### (a) Mostre a média, o máximo e o mínimo da medida-F. "
   ]
  },
  {
   "cell_type": "code",
   "execution_count": 24,
   "metadata": {},
   "outputs": [],
   "source": [
    "def calc_f_measure(classifier):\n",
    "    list_rates = []\n",
    "    list_f_measure = []\n",
    "\n",
    "    for train_index, test_index in skf.split(x,y):\n",
    "        # TREINO\n",
    "        x_train = x[train_index]\n",
    "        y_train = y[train_index]\n",
    "        # TESTE\n",
    "        x_test = x[test_index]\n",
    "        y_test = y[test_index]\n",
    "\n",
    "        classifier.fit(x_train, y_train)\n",
    "        rate = classifier.score(x_test, y_test)\n",
    "        list_rates.append(rate)\n",
    "\n",
    "        y_pred = classifier.predict(x_test)\n",
    "        recall = recall_score(y_test, y_pred)\n",
    "        precision = precision_score(y_test, y_pred)\n",
    "\n",
    "        f_measure = ((2*precision*recall)/(precision+recall))\n",
    "        list_f_measure.append(f_measure)\n",
    "\n",
    "    average_fMeasure = np.mean(list_f_measure)\n",
    "    min_fMeasure = min(list_f_measure)\n",
    "    max_fMeasure = max(list_f_measure)\n",
    "\n",
    "    print(\"\\n MÉDIA: \\n\")\n",
    "    print(\"%.3f\" % average_fMeasure)\n",
    "    print(\"\\n MÁXIMO: \\n\")\n",
    "    print(\"%.3f\" % max_fMeasure)\n",
    "    print(\"\\n MÍNIMO: \\n\")\n",
    "    print(\"%.3f\" % min_fMeasure)\n",
    "\n",
    "    return list_f_measure, average_fMeasure"
   ]
  },
  {
   "cell_type": "code",
   "execution_count": 25,
   "metadata": {},
   "outputs": [
    {
     "ename": "NameError",
     "evalue": "name 'classifier' is not defined",
     "output_type": "error",
     "traceback": [
      "\u001b[0;31m---------------------------------------------------------------------------\u001b[0m",
      "\u001b[0;31mNameError\u001b[0m                                 Traceback (most recent call last)",
      "Cell \u001b[0;32mIn[25], line 1\u001b[0m\n\u001b[0;32m----> 1\u001b[0m list_f_measure, average_fMeasure \u001b[39m=\u001b[39m calc_f_measure(classifier)\n",
      "\u001b[0;31mNameError\u001b[0m: name 'classifier' is not defined"
     ]
    }
   ],
   "source": [
    "list_f_measure, average_fMeasure = calc_f_measure(classifier)\n"
   ]
  },
  {
   "attachments": {},
   "cell_type": "markdown",
   "metadata": {},
   "source": [
    "### (b) Mostre o histograma da medida-F."
   ]
  },
  {
   "cell_type": "code",
   "execution_count": null,
   "metadata": {},
   "outputs": [],
   "source": [
    "def histogram_f_measure(list_f_measure):\n",
    "    n_bins = len(list_f_measure)\n",
    "    fig, axs = plt.subplots(1, 2, sharey=True, tight_layout=True)\n",
    "    axs[0].hist(list_f_measure, bins=n_bins)"
   ]
  },
  {
   "cell_type": "code",
   "execution_count": null,
   "metadata": {},
   "outputs": [
    {
     "data": {
      "image/png": "[encoded data removed]",
      "text/plain": [
       "<Figure size 640x480 with 2 Axes>"
      ]
     },
     "metadata": {},
     "output_type": "display_data"
    }
   ],
   "source": [
    "histogram_f_measure(list_f_measure)"
   ]
  },
  {
   "attachments": {},
   "cell_type": "markdown",
   "metadata": {},
   "source": [
    "### (c) Calcule o intervalo de confiança da medida-F."
   ]
  },
  {
   "cell_type": "code",
   "execution_count": null,
   "metadata": {},
   "outputs": [],
   "source": [
    "def calc_confidence_interval(average_fMeasure, list_f_measure):\n",
    "    desvio_padrao = np.std(list_f_measure)\n",
    "    \n",
    "    erro_padrao = desvio_padrao/np.sqrt(len(list_f_measure))\n",
    "\n",
    "    multiplier = abs(stats.distributions.norm.ppf(0.025))\n",
    "\n",
    "    confidence_interval = (average_fMeasure - multiplier*erro_padrao, average_fMeasure + multiplier*erro_padrao)\n",
    "    print(\"\\n INTERVALO DE CONFIANÇA \\n\")\n",
    "    print(confidence_interval)\n",
    "\n",
    "    return confidence_interval"
   ]
  },
  {
   "cell_type": "code",
   "execution_count": null,
   "metadata": {},
   "outputs": [
    {
     "name": "stdout",
     "output_type": "stream",
     "text": [
      "\n",
      " INTERVALO DE CONFIANÇA \n",
      "\n",
      "(0.997643082377952, 0.9989729820531587)\n"
     ]
    }
   ],
   "source": [
    "confidence_interval = calc_confidence_interval(average_fMeasure, list_f_measure)"
   ]
  },
  {
   "attachments": {},
   "cell_type": "markdown",
   "metadata": {},
   "source": [
    "### (d) Qual a medida-F mínima que você espera ao aplicar este classificador, sob as mesmas condições de treinamento, para dados nunca vistos?"
   ]
  },
  {
   "attachments": {},
   "cell_type": "markdown",
   "metadata": {},
   "source": [
    "O valor minimo do intervalo de confiança: 0.997643082377952"
   ]
  },
  {
   "attachments": {},
   "cell_type": "markdown",
   "metadata": {},
   "source": [
    "### (e) Qual a medida-F esperada para o classificador quando aplicada a dados nunca antes vistos. \n"
   ]
  },
  {
   "attachments": {},
   "cell_type": "markdown",
   "metadata": {},
   "source": [
    "Valores dentro do intervalo de confiança: (0.997643082377952, 0.9989729820531587)"
   ]
  },
  {
   "attachments": {},
   "cell_type": "markdown",
   "metadata": {},
   "source": [
    "### 2. (25 pontos) Realize um experimento pareado com 100 repetições de Holdout 50/50 utilizando o classi cador 1-NN com distância Euclidiana. Utilize duas versões da base Wine archive. ics.uci.edu/ml/datasets/Wine para este experimento, a primeira versão é a base original, a segunda versão é a base sem a última coluna. Após calcular 100 taxas de acero para cada uma das versões da base, realize os procedimentos abaixo. \n"
   ]
  },
  {
   "cell_type": "code",
   "execution_count": 38,
   "metadata": {},
   "outputs": [],
   "source": [
    "names_columns = ['Class', 'Alcohol', 'Malic acid', 'Ash', 'Alcalinity of ash', 'Magnesium', 'Total phenols', 'Flavanoids', 'Nonflavanoid phenols', 'Proanthocyanins', 'Color intensity', 'Hue', 'OD280/OD315 of diluted wines', 'Proline']\n",
    "\n",
    "df2 = pd.read_csv(\"wine_v2.data\", names=names_columns)\n",
    "\n",
    "# v1\n",
    "y = np.array(df2[df2.columns[:1:]]).flatten()\n",
    "# v2\n",
    "y2 = df2[df2.columns[:1:]]\n"
   ]
  },
  {
   "cell_type": "code",
   "execution_count": 32,
   "metadata": {},
   "outputs": [],
   "source": [
    "def calcular_taxas_removendo_colunas(dataframe, qtd_colunas_retiradas, qtd_taxas, porcent_test):\n",
    "    arrays = []\n",
    "    colunas = len(dataframe.columns)-1\n",
    "    classificador = KNeighborsClassifier(n_neighbors=1)\n",
    "    for n in range(qtd_colunas_retiradas):\n",
    "        array_taxas = []\n",
    "        x = (dataframe[dataframe.columns[1:colunas:]])\n",
    "        colunas -= 1\n",
    "        for i in range(qtd_taxas):\n",
    "            x_treino, x_teste, y_treino, y_teste = train_test_split (x, y,test_size=porcent_test, random_state=i)\n",
    "            classificador.fit(x_treino, y_treino)\n",
    "            taxas = classificador.score(x_teste, y_teste)\n",
    "            array_taxas.append(taxas)\n",
    "\n",
    "        arrays.append(array_taxas)\n",
    "\n",
    "    return arrays\n",
    "\n",
    "arrays_taxas = calcular_taxas_removendo_colunas(df2, 2, 100, 0.5)\n"
   ]
  },
  {
   "cell_type": "code",
   "execution_count": 33,
   "metadata": {},
   "outputs": [
    {
     "name": "stdout",
     "output_type": "stream",
     "text": [
      "{1: [[0.022471910112359605, 0.0, 0.011235955056179803, 0.03370786516853941, 0.011235955056179803, 0.011235955056179803, 0.0337078651685393, 0.022471910112359494, 0.022471910112359494, 0.011235955056179692, 0.022471910112359494, 0.0, 0.0337078651685393, 0.0561797752808989, 0.011235955056179803, 0.011235955056179692, 0.022471910112359605, 0.011235955056179692, 0.011235955056179692, 0.0337078651685393, 0.011235955056179803, 0.022471910112359605, 0.0, 0.0, 0.011235955056179803, 0.022471910112359605, -0.011235955056179803, 0.011235955056179803, 0.011235955056179803, 0.011235955056179803, 0.0, 0.022471910112359494, 0.011235955056179803, 0.022471910112359605, -0.011235955056179803, 0.011235955056179692, 0.022471910112359494, 0.022471910112359494, 0.011235955056179803, 0.022471910112359494, 0.0, -0.011235955056179803, 0.0, 0.011235955056179803, 0.011235955056179803, 0.011235955056179803, 0.022471910112359605, 0.0, 0.022471910112359494, 0.011235955056179803, 0.022471910112359494, 0.022471910112359494, 0.03370786516853941, 0.0, 0.011235955056179692, 0.022471910112359605, 0.03370786516853941, 0.0449438202247191, 0.0, 0.022471910112359605, 0.011235955056179692, 0.011235955056179803, 0.022471910112359605, 0.0337078651685393, 0.022471910112359605, 0.0, 0.0, 0.0, 0.011235955056179803, 0.011235955056179803, -0.011235955056179692, 0.011235955056179803, 0.022471910112359494, 0.011235955056179803, 0.011235955056179803, 0.011235955056179803, 0.011235955056179803, 0.022471910112359605, 0.0, 0.011235955056179803, 0.022471910112359494, 0.011235955056179803, 0.022471910112359605, -0.011235955056179692, 0.011235955056179803, 0.011235955056179692, 0.0, 0.022471910112359605, 0.0, 0.0, 0.011235955056179803, 0.011235955056179803, 0.022471910112359494, 0.0337078651685393, 0.011235955056179803, 0.022471910112359494, 0.0, 0.011235955056179803, 0.011235955056179803, 0.0]]}\n"
     ]
    }
   ],
   "source": [
    "def calcular_todas_diferencas(arrays):\n",
    "    hash_diferencas_total = {}\n",
    "    array_diferencas_atual = []\n",
    "    array_diferencas_local = []\n",
    "\n",
    "    cont = 1\n",
    "    for x in range(len(arrays)-1):\n",
    "        for p in range(len(arrays)-1):\n",
    "            for y in range(len(arrays[p])):\n",
    "                if p >= x:\n",
    "                    array_diferencas_atual.append(arrays[x][y] - arrays[p+1][y])\n",
    "            if array_diferencas_atual not in array_diferencas_local:\n",
    "                if array_diferencas_atual:\n",
    "                    array_diferencas_local.append(array_diferencas_atual)\n",
    "            array_diferencas_atual = []\n",
    "        hash_diferencas_total[x+1] = array_diferencas_local\n",
    "        array_diferencas_local = []\n",
    "    \n",
    "    return hash_diferencas_total\n",
    "\n",
    "hash_diferencas_total = calcular_todas_diferencas(arrays_taxas)\n",
    "\n",
    "print(hash_diferencas_total)"
   ]
  },
  {
   "cell_type": "code",
   "execution_count": 34,
   "metadata": {},
   "outputs": [
    {
     "name": "stdout",
     "output_type": "stream",
     "text": [
      "{1: [0.013595505617977528]}\n"
     ]
    }
   ],
   "source": [
    "def calcular_todas_medias(array_diferencas_total):\n",
    "    hash_media_total = {}\n",
    "    array_media_atual = []\n",
    "    soma_total = 0\n",
    "\n",
    "    for i in range(len(array_diferencas_total)):\n",
    "        for j in range(len(array_diferencas_total[i+1])):\n",
    "            for u in array_diferencas_total[i+1][j]:\n",
    "                soma_total += u\n",
    "            media = soma_total / len(array_diferencas_total[i+1][j])\n",
    "            array_media_atual.append(media)\n",
    "            soma_total = 0\n",
    "        hash_media_total[i+1] = array_media_atual\n",
    "        array_media_atual = []\n",
    "    \n",
    "    return hash_media_total\n",
    "\n",
    "hash_media_total = calcular_todas_medias(hash_diferencas_total)\n",
    "print(hash_media_total)"
   ]
  },
  {
   "cell_type": "code",
   "execution_count": 36,
   "metadata": {},
   "outputs": [
    {
     "name": "stdout",
     "output_type": "stream",
     "text": [
      "1 (0.01119732372881338, 0.015993687507141675)\n"
     ]
    }
   ],
   "source": [
    "def calcular_intervalo_confianca(hash_medias, hash_diferencas_total):\n",
    "    for i in range(len(hash_medias)):\n",
    "        for x in range(len(hash_medias[i+1])):\n",
    "            \n",
    "            desvio_padrao = np.std(hash_diferencas_total[i+1][x])\n",
    "            \n",
    "            erro_padrao = desvio_padrao/np.sqrt(len(hash_diferencas_total[i+1][x]))\n",
    "\n",
    "            multiplicador = abs(stats.distributions.norm.ppf(0.025))\n",
    "\n",
    "            print(i+1, (hash_medias[i+1][x] - multiplicador*erro_padrao, hash_medias[i+1][x] + multiplicador*erro_padrao)\n",
    "            )\n",
    "calcular_intervalo_confianca(hash_media_total, hash_diferencas_total)"
   ]
  },
  {
   "cell_type": "code",
   "execution_count": null,
   "metadata": {},
   "outputs": [
    {
     "name": "stdout",
     "output_type": "stream",
     "text": [
      "1 (0.8252175672280455, 0.8399509720977969)\n",
      "2 (0.8112722681354767, 0.8267052599544105)\n"
     ]
    }
   ],
   "source": [
    "def calcular_medias_separadas(array):\n",
    "    hash_saida = {}\n",
    "    array_aux = []\n",
    "    for x in range(len(array)):  \n",
    "        array_aux.append(np.mean(array[x]))          \n",
    "        hash_saida[x+1] = array_aux\n",
    "        array_aux = []\n",
    "    return hash_saida\n",
    "\n",
    "medias_separadas = calcular_medias_separadas(arrays_taxas)\n",
    "\n",
    "hash_taxas = {}\n",
    "array_aux = []\n",
    "for x in range(len(arrays_taxas)):\n",
    "    array_aux.append(arrays_taxas[x])\n",
    "    hash_taxas[x+1] = array_aux\n",
    "    array_aux = []\n",
    "\n",
    "calcular_intervalo_confianca(medias_separadas, hash_taxas)"
   ]
  },
  {
   "attachments": {},
   "cell_type": "markdown",
   "metadata": {},
   "source": [
    "3. (25 pontos) Qual o número máximo de características que podem ser removidas da base Iris archive.ics.uci.edu/ml/datasets/iris sem reduzir significativamente a taxa de acerto? De na a metodologia utilizada para justificar sua resposta. "
   ]
  },
  {
   "cell_type": "code",
   "execution_count": null,
   "metadata": {},
   "outputs": [],
   "source": [
    "import numpy as np\n",
    "import pandas as pd\n",
    "from sklearn.model_selection import train_test_split\n",
    "from scipy import stats\n",
    "from sklearn.neighbors import KNeighborsClassifier"
   ]
  },
  {
   "cell_type": "code",
   "execution_count": null,
   "metadata": {},
   "outputs": [],
   "source": [
    "nomes_col = ['Sepal length', 'Sepal width', 'Petal length', 'Petal width', 'Class' ]\n",
    "df = pd.read_csv(\"data/iris.data\", names=nomes_col)"
   ]
  },
  {
   "cell_type": "code",
   "execution_count": null,
   "metadata": {},
   "outputs": [],
   "source": [
    "y = np.array(df[df.columns[-1::]]).flatten()\n",
    "\n",
    "h = {'Iris-setosa': 1, 'Iris-versicolor': 2, 'Iris-virginica': 3}\n",
    "\n",
    "y2 = df[df.columns[-1::]]\n",
    "\n",
    "for classe in range(len(y)):\n",
    "    y[classe] = int(h[y[classe]])\n",
    "\n",
    "y = y.astype(np.int64)"
   ]
  },
  {
   "cell_type": "code",
   "execution_count": null,
   "metadata": {},
   "outputs": [],
   "source": [
    "def calcular_taxas_removendo_colunas(dataframe, qtd_colunas_retiradas, qtd_taxas, porcent_test):\n",
    "    arrays = []\n",
    "    colunas = len(dataframe.columns)-1\n",
    "    classificador = KNeighborsClassifier(n_neighbors=1)\n",
    "    for n in range(qtd_colunas_retiradas):\n",
    "        array_taxas = []\n",
    "        x = (dataframe[dataframe.columns[0:colunas:]])\n",
    "        colunas -= 1\n",
    "        for i in range(qtd_taxas):\n",
    "            x_treino, x_teste, y_treino, y_teste = train_test_split (x, y,test_size=porcent_test, random_state=i)\n",
    "            classificador.fit(x_treino, y_treino)\n",
    "            taxas = classificador.score(x_teste, y_teste)\n",
    "            array_taxas.append(taxas)\n",
    "\n",
    "        arrays.append(array_taxas)\n",
    "\n",
    "    return arrays"
   ]
  },
  {
   "cell_type": "code",
   "execution_count": null,
   "metadata": {},
   "outputs": [],
   "source": [
    "qtd_colunas = len(df.columns)-1\n",
    "arrays_taxas = calcular_taxas_removendo_colunas(df,qtd_colunas, 30, 0.5)\n",
    "arrays_taxas"
   ]
  },
  {
   "cell_type": "code",
   "execution_count": null,
   "metadata": {},
   "outputs": [],
   "source": [
    "def calcular_intervalo_confianca(hash_medias, hash_diferencas_total):\n",
    "    for i in range(len(hash_medias)):\n",
    "        for x in range(len(hash_medias[i+1])):\n",
    "            \n",
    "            desvio_padrao = np.std(hash_diferencas_total[i+1][x])\n",
    "            \n",
    "            erro_padrao = desvio_padrao/np.sqrt(len(hash_diferencas_total[i+1][x]))\n",
    "\n",
    "            multiplicador = abs(stats.distributions.norm.ppf(0.025))\n",
    "\n",
    "            print(i+1, (hash_medias[i+1][x] - multiplicador*erro_padrao, hash_medias[i+1][x] + multiplicador*erro_padrao)\n",
    "            )"
   ]
  },
  {
   "cell_type": "code",
   "execution_count": null,
   "metadata": {},
   "outputs": [],
   "source": [
    "def calcular_medias_separadas(array):\n",
    "\n",
    "    hash_saida = {}\n",
    "    array_aux = []\n",
    "    for x in range(len(array)):  \n",
    "        array_aux.append(np.mean(array[x]))          \n",
    "        hash_saida[x+1] = array_aux\n",
    "        array_aux = []\n",
    "    return hash_saida"
   ]
  },
  {
   "cell_type": "code",
   "execution_count": null,
   "metadata": {},
   "outputs": [],
   "source": [
    "medias_separadas = calcular_medias_separadas(arrays_taxas)\n",
    "\n",
    "hash_taxas = {}\n",
    "array_aux = []\n",
    "for x in range(len(arrays_taxas)):\n",
    "    array_aux.append(arrays_taxas[x])\n",
    "    hash_taxas[x+1] = array_aux\n",
    "    array_aux = []\n",
    "\n",
    "calcular_intervalo_confianca(medias_separadas, hash_taxas)"
   ]
  },
  {
   "attachments": {},
   "cell_type": "markdown",
   "metadata": {},
   "source": [
    "4. (25 pontos) Utilizando o classificador k-NN na base Wine archive.ics.uci.edu/ml/datasets/ Wine, teste os valores k = 1, . . . , 15. Para qual valor de k o classi cador apresenta uma taxa de acerto significativamente maior? De na a metodologia utilizada para justificar sua resposta. "
   ]
  },
  {
   "cell_type": "code",
   "execution_count": null,
   "metadata": {},
   "outputs": [],
   "source": [
    "nomes_col = ['Class', 'Alcohol', 'Malic acid','Ash', 'Alcalinity of ash', 'Magnesium', 'Total phenols','Flavanoids', 'Nonflavanoid phenols','Proanthocyanins', 'Color intensity','Hue','OD280/OD315 of diluted wines','Proline',]\n",
    "\n",
    "df = pd.read_csv(\"data/wine.data\", names=nomes_col)"
   ]
  },
  {
   "cell_type": "code",
   "execution_count": null,
   "metadata": {},
   "outputs": [],
   "source": [
    "x = np.array(df[df.columns[1:13:]])\n",
    "x2 = df[df.columns[1:13:]]\n",
    "\n",
    "y = np.array(df[df.columns[:1:]]).flatten()\n",
    "y2 = df[df.columns[:1:]]"
   ]
  },
  {
   "cell_type": "code",
   "execution_count": null,
   "metadata": {},
   "outputs": [],
   "source": [
    "def calcular_taxas_para_knn(k, qtd_taxas, porcent_test):\n",
    "    array_taxas = []\n",
    "\n",
    "    for n in range(k):\n",
    "        arrays = []\n",
    "        for i in range(qtd_taxas):\n",
    "            x_treino, x_teste, y_treino, y_teste = train_test_split (x, y,test_size=porcent_test, random_state=i)\n",
    "            classificador = KNeighborsClassifier(n_neighbors=n+1)\n",
    "            classificador.fit(x_treino, y_treino)\n",
    "            taxas = classificador.score(x_teste, y_teste)\n",
    "            arrays.append(taxas)\n",
    "\n",
    "        array_taxas.append(arrays)\n",
    "        \n",
    "    return array_taxas\n",
    "\n",
    "array_taxas = calcular_taxas_para_knn(15, 30, 0.5)"
   ]
  },
  {
   "cell_type": "code",
   "execution_count": null,
   "metadata": {},
   "outputs": [],
   "source": [
    "def calcular_intervalo_confianca(hash_medias, hash_diferencas_total):\n",
    "    for i in range(len(hash_medias)):\n",
    "        for x in range(len(hash_medias[i+1])):\n",
    "            \n",
    "            std = np.std(hash_diferencas_total[i+1][x])\n",
    "\n",
    "            desvio_padrao = std/np.sqrt(len(hash_diferencas_total[i+1][x]))\n",
    "\n",
    "            multiplicador = abs(stats.distributions.norm.ppf(0.025))\n",
    "\n",
    "            print(\"int_conf: \", i+1,(hash_medias[i+1][x] - multiplicador*desvio_padrao, hash_medias[i+1][x] + multiplicador*desvio_padrao)\n",
    "            )"
   ]
  },
  {
   "cell_type": "code",
   "execution_count": null,
   "metadata": {},
   "outputs": [],
   "source": [
    "def calcular_medias_separadas(array):\n",
    "\n",
    "    hash_saida = {}\n",
    "    array_aux = []\n",
    "    for x in range(len(array)):  \n",
    "        array_aux.append(np.mean(array[x]))          \n",
    "        hash_saida[x+1] = array_aux\n",
    "        array_aux = []\n",
    "    return hash_saida\n"
   ]
  },
  {
   "cell_type": "code",
   "execution_count": null,
   "metadata": {},
   "outputs": [],
   "source": [
    "medias_separadas = calcular_medias_separadas(array_taxas)\n",
    "\n",
    "hash_taxas = {}\n",
    "array_aux = []\n",
    "\n",
    "for x in range(len(array_taxas)):\n",
    "    array_aux.append(array_taxas[x])\n",
    "    hash_taxas[x+1] = array_aux\n",
    "    array_aux = [] \n",
    "\n",
    "calcular_intervalo_confianca(medias_separadas, hash_taxas)"
   ]
  }
 ],
 "metadata": {
  "kernelspec": {
   "display_name": "Python 3",
   "language": "python",
   "name": "python3"
  },
  "language_info": {
   "codemirror_mode": {
    "name": "ipython",
    "version": 3
   },
   "file_extension": ".py",
   "mimetype": "text/x-python",
   "name": "python",
   "nbconvert_exporter": "python",
   "pygments_lexer": "ipython3",
   "version": "3.8.10"
  },
  "orig_nbformat": 4,
  "vscode": {
   "interpreter": {
    "hash": "916dbcbb3f70747c44a77c7bcd40155683ae19c65e1c03b4aa3499c5328201f1"
   }
  }
 },
 "nbformat": 4,
 "nbformat_minor": 2
}
