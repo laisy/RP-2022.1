{
 "cells": [
  {
   "attachments": {},
   "cell_type": "markdown",
   "metadata": {},
   "source": [
    "### 1. (25 pontos) Realize 100-fold cross validation estratificado na base Skin Segmentation utilizando o classi cador 1-NN com distância Euclidiana então realize os procedimentos abaixo. "
   ]
  },
  {
   "cell_type": "code",
   "execution_count": 2,
   "metadata": {},
   "outputs": [],
   "source": [
    "import numpy as np\n",
    "import pandas as pd\n",
    "from sklearn.model_selection import train_test_split, StratifiedKFold\n",
    "from sklearn.metrics import classification_report, confusion_matrix, recall_score, precision_score\n",
    "from sklearn.neighbors import KNeighborsClassifier\n",
    "from sklearn.preprocessing import StandardScaler\n",
    "from matplotlib import pyplot as plt\n",
    "from matplotlib import colors\n",
    "from matplotlib.ticker import PercentFormatter\n",
    "from scipy import stats"
   ]
  },
  {
   "cell_type": "code",
   "execution_count": 5,
   "metadata": {},
   "outputs": [],
   "source": [
    "nomes_col = ['B', 'G', 'R', 'Class']\n",
    "\n",
    "df = pd.read_csv(\"Skin_NonSkin.csv\")\n",
    "\n",
    "x = np.array(df[df.columns[0:3:]])\n",
    "y = np.array(df[df.columns[-1::]]).flatten()\n",
    "\n",
    "skf = StratifiedKFold(n_splits = 100)\n",
    "\n",
    "classificador = KNeighborsClassifier(n_neighbors=1)\n",
    "\n",
    "array_taxas = []\n",
    "array_medidasf = []\n",
    "\n",
    "for train_index, test_index in skf.split(x,y):\n",
    "    x_train, x_test = x[train_index], x[test_index]\n",
    "    y_train, y_test = y[train_index], y[test_index]\n",
    "\n",
    "    classificador.fit(x_train, y_train)\n",
    "    taxas = classificador.score(x_test, y_test)\n",
    "    array_taxas.append(taxas)\n",
    "    y_pred = classificador.predict(x_test)\n",
    "    recall = recall_score(y_test, y_pred)\n",
    "    precisao = precision_score(y_test, y_pred)\n",
    "    array_medidasf.append((2*precisao*recall)/(precisao+recall))\n",
    "\n"
   ]
  },
  {
   "attachments": {},
   "cell_type": "markdown",
   "metadata": {},
   "source": [
    "### (a) Mostre a média, o máximo e o mínimo da medida-F. "
   ]
  },
  {
   "cell_type": "code",
   "execution_count": 67,
   "metadata": {},
   "outputs": [],
   "source": [
    "def calc_f_measure(classifier):\n",
    "    list_rates = []\n",
    "    list_f_measure = []\n",
    "\n",
    "    for train_index, test_index in skf.split(x,y):\n",
    "        # TREINO\n",
    "        x_train = x[train_index]\n",
    "        y_train = y[train_index]\n",
    "        # TESTE\n",
    "        x_test = x[test_index]\n",
    "        y_test = y[test_index]\n",
    "\n",
    "        classifier.fit(x_train, y_train)\n",
    "        rate = classifier.score(x_test, y_test)\n",
    "        list_rates.append(rate)\n",
    "\n",
    "        y_pred = classifier.predict(x_test)\n",
    "        recall = recall_score(y_test, y_pred)\n",
    "        precision = precision_score(y_test, y_pred)\n",
    "\n",
    "        f_measure = ((2*precision*recall)/(precision+recall))\n",
    "        list_f_measure.append(f_measure)\n",
    "\n",
    "    average_fMeasure = np.mean(list_f_measure)\n",
    "    min_fMeasure = min(list_f_measure)\n",
    "    max_fMeasure = max(list_f_measure)\n",
    "\n",
    "    print(\"\\n MÉDIA: \\n\")\n",
    "    print(\"%.3f\" % average_fMeasure)\n",
    "    print(\"\\n MÁXIMO: \\n\")\n",
    "    print(\"%.3f\" % max_fMeasure)\n",
    "    print(\"\\n MÍNIMO: \\n\")\n",
    "    print(\"%.3f\" % min_fMeasure)\n",
    "\n",
    "    return list_f_measure, average_fMeasure"
   ]
  },
  {
   "cell_type": "code",
   "execution_count": 68,
   "metadata": {},
   "outputs": [
    {
     "ename": "NameError",
     "evalue": "name 'classifier' is not defined",
     "output_type": "error",
     "traceback": [
      "\u001b[0;31m---------------------------------------------------------------------------\u001b[0m",
      "\u001b[0;31mNameError\u001b[0m                                 Traceback (most recent call last)",
      "Cell \u001b[0;32mIn[68], line 1\u001b[0m\n\u001b[0;32m----> 1\u001b[0m list_f_measure, average_fMeasure \u001b[39m=\u001b[39m calc_f_measure(classifier)\n",
      "\u001b[0;31mNameError\u001b[0m: name 'classifier' is not defined"
     ]
    }
   ],
   "source": [
    "list_f_measure, average_fMeasure = calc_f_measure(classifier)\n"
   ]
  },
  {
   "attachments": {},
   "cell_type": "markdown",
   "metadata": {},
   "source": [
    "### (b) Mostre o histograma da medida-F."
   ]
  },
  {
   "cell_type": "code",
   "execution_count": null,
   "metadata": {},
   "outputs": [],
   "source": [
    "def histogram_f_measure(list_f_measure):\n",
    "    n_bins = len(list_f_measure)\n",
    "    fig, axs = plt.subplots(1, 2, sharey=True, tight_layout=True)\n",
    "    axs[0].hist(list_f_measure, bins=n_bins)"
   ]
  },
  {
   "cell_type": "code",
   "execution_count": null,
   "metadata": {},
   "outputs": [
    {
     "data": {
      "image/png": "[encoded data removed]",
      "text/plain": [
       "<Figure size 640x480 with 2 Axes>"
      ]
     },
     "metadata": {},
     "output_type": "display_data"
    }
   ],
   "source": [
    "histogram_f_measure(list_f_measure)"
   ]
  },
  {
   "attachments": {},
   "cell_type": "markdown",
   "metadata": {},
   "source": [
    "### (c) Calcule o intervalo de confiança da medida-F."
   ]
  },
  {
   "cell_type": "code",
   "execution_count": null,
   "metadata": {},
   "outputs": [],
   "source": [
    "def calc_confidence_interval(average_fMeasure, list_f_measure):\n",
    "    desvio_padrao = np.std(list_f_measure)\n",
    "    \n",
    "    erro_padrao = desvio_padrao/np.sqrt(len(list_f_measure))\n",
    "\n",
    "    multiplier = abs(stats.distributions.norm.ppf(0.025))\n",
    "\n",
    "    confidence_interval = (average_fMeasure - multiplier*erro_padrao, average_fMeasure + multiplier*erro_padrao)\n",
    "    print(\"\\n INTERVALO DE CONFIANÇA \\n\")\n",
    "    print(confidence_interval)\n",
    "\n",
    "    return confidence_interval"
   ]
  },
  {
   "cell_type": "code",
   "execution_count": null,
   "metadata": {},
   "outputs": [
    {
     "name": "stdout",
     "output_type": "stream",
     "text": [
      "\n",
      " INTERVALO DE CONFIANÇA \n",
      "\n",
      "(0.997643082377952, 0.9989729820531587)\n"
     ]
    }
   ],
   "source": [
    "confidence_interval = calc_confidence_interval(average_fMeasure, list_f_measure)"
   ]
  },
  {
   "attachments": {},
   "cell_type": "markdown",
   "metadata": {},
   "source": [
    "### (d) Qual a medida-F mínima que você espera ao aplicar este classificador, sob as mesmas condições de treinamento, para dados nunca vistos?"
   ]
  },
  {
   "attachments": {},
   "cell_type": "markdown",
   "metadata": {},
   "source": [
    "O valor minimo do intervalo de confiança: 0.997643082377952"
   ]
  },
  {
   "attachments": {},
   "cell_type": "markdown",
   "metadata": {},
   "source": [
    "### (e) Qual a medida-F esperada para o classificador quando aplicada a dados nunca antes vistos. \n"
   ]
  },
  {
   "attachments": {},
   "cell_type": "markdown",
   "metadata": {},
   "source": [
    "Valores dentro do intervalo de confiança: (0.997643082377952, 0.9989729820531587)"
   ]
  },
  {
   "attachments": {},
   "cell_type": "markdown",
   "metadata": {},
   "source": [
    "### 2. (25 pontos) Realize um experimento pareado com 100 repetições de Holdout 50/50 utilizando o classi cador 1-NN com distância Euclidiana. Utilize duas versões da base Wine archive. ics.uci.edu/ml/datasets/Wine para este experimento, a primeira versão é a base original, a segunda versão é a base sem a última coluna. Após calcular 100 taxas de acero para cada uma das versões da base, realize os procedimentos abaixo. \n"
   ]
  },
  {
   "cell_type": "code",
   "execution_count": null,
   "metadata": {},
   "outputs": [],
   "source": [
    "names_columns = ['Class', 'Alcohol', 'Malic acid', 'Ash', 'Alcalinity of ash', 'Magnesium', 'Total phenols', 'Flavanoids', 'Nonflavanoid phenols', 'Proanthocyanins', 'Color intensity', 'Hue', 'OD280/OD315 of diluted wines', 'Proline']\n",
    "\n",
    "df = pd.read_csv(\"wine.data\", names=names_columns)\n",
    "\n",
    "y = np.array(df[df.columns[:1:]]).flatten()\n",
    "y2 = df[df.columns[:1:]]\n",
    "\n"
   ]
  },
  {
   "cell_type": "code",
   "execution_count": null,
   "metadata": {},
   "outputs": [],
   "source": [
    "def calc_rating_n_columns(dataframe, n_columns, n_rates, porcent_test):\n",
    "    list = []\n",
    "    column = len(dataframe.columns)\n",
    "\n",
    "    classificador = KNeighborsClassifier(n_neighbors=1)\n",
    "\n",
    "    for n in range(n_columns):\n",
    "        list_rates = []\n",
    "        x = (dataframe[dataframe.columns[1:column:]])\n",
    "        column -= 1\n",
    "        \n",
    "        for i in range(n_rates):\n",
    "            x_treino, x_teste, y_treino, y_teste = train_test_split (x, y,test_size=porcent_test, random_state=i)\n",
    "            classificador.fit(x_treino, y_treino)\n",
    "            rates = classificador.score(x_teste, y_teste)\n",
    "            list_rates.append(rates)\n",
    "\n",
    "        list.append(list_rates)\n",
    "\n",
    "    return list\n",
    "\n",
    "lists_rates = calc_rating_n_columns(df, 2, 100, 0.5)\n",
    "\n"
   ]
  },
  {
   "cell_type": "code",
   "execution_count": null,
   "metadata": {},
   "outputs": [
    {
     "name": "stdout",
     "output_type": "stream",
     "text": [
      "0 [0.7415730337078652, 0.6966292134831461, 0.7191011235955056, 0.7191011235955056, 0.8202247191011236, 0.6853932584269663, 0.7640449438202247, 0.6629213483146067, 0.7415730337078652, 0.6741573033707865, 0.7303370786516854, 0.7752808988764045, 0.7752808988764045, 0.7415730337078652, 0.797752808988764, 0.7191011235955056, 0.7078651685393258, 0.7078651685393258, 0.6741573033707865, 0.6404494382022472, 0.6966292134831461, 0.7752808988764045, 0.7191011235955056, 0.7640449438202247, 0.8089887640449438, 0.7191011235955056, 0.7415730337078652, 0.7415730337078652, 0.7303370786516854, 0.5955056179775281, 0.6179775280898876, 0.7528089887640449, 0.7303370786516854, 0.651685393258427, 0.8202247191011236, 0.7078651685393258, 0.7640449438202247, 0.6853932584269663, 0.7415730337078652, 0.7640449438202247, 0.7303370786516854, 0.6853932584269663, 0.6853932584269663, 0.7865168539325843, 0.7191011235955056, 0.6741573033707865, 0.7303370786516854, 0.7303370786516854, 0.651685393258427, 0.6853932584269663, 0.6853932584269663, 0.7191011235955056, 0.7415730337078652, 0.6629213483146067, 0.7303370786516854, 0.7528089887640449, 0.7303370786516854, 0.6966292134831461, 0.651685393258427, 0.7528089887640449, 0.7528089887640449, 0.6629213483146067, 0.7078651685393258, 0.6966292134831461, 0.7078651685393258, 0.7528089887640449, 0.6853932584269663, 0.7415730337078652, 0.7415730337078652, 0.7078651685393258, 0.7528089887640449, 0.6853932584269663, 0.6966292134831461, 0.6966292134831461, 0.797752808988764, 0.6966292134831461, 0.7528089887640449, 0.7415730337078652, 0.7415730337078652, 0.7640449438202247, 0.7303370786516854, 0.6966292134831461, 0.797752808988764, 0.7303370786516854, 0.651685393258427, 0.7078651685393258, 0.5955056179775281, 0.6966292134831461, 0.7303370786516854, 0.797752808988764, 0.6067415730337079, 0.651685393258427, 0.7303370786516854, 0.6404494382022472, 0.7640449438202247, 0.7303370786516854, 0.6966292134831461, 0.6741573033707865, 0.7415730337078652, 0.6741573033707865] \n",
      "\n",
      "1 [0.8764044943820225, 0.8651685393258427, 0.8314606741573034, 0.8314606741573034, 0.8764044943820225, 0.9213483146067416, 0.8539325842696629, 0.8539325842696629, 0.797752808988764, 0.797752808988764, 0.797752808988764, 0.8089887640449438, 0.898876404494382, 0.8764044943820225, 0.898876404494382, 0.797752808988764, 0.8651685393258427, 0.797752808988764, 0.8426966292134831, 0.7640449438202247, 0.8539325842696629, 0.8651685393258427, 0.8314606741573034, 0.9101123595505618, 0.9101123595505618, 0.7415730337078652, 0.797752808988764, 0.8314606741573034, 0.8539325842696629, 0.8539325842696629, 0.797752808988764, 0.797752808988764, 0.8314606741573034, 0.9213483146067416, 0.8089887640449438, 0.797752808988764, 0.8426966292134831, 0.797752808988764, 0.8651685393258427, 0.797752808988764, 0.8876404494382022, 0.8089887640449438, 0.7865168539325843, 0.8651685393258427, 0.7752808988764045, 0.8651685393258427, 0.8202247191011236, 0.797752808988764, 0.8426966292134831, 0.8314606741573034, 0.8089887640449438, 0.8426966292134831, 0.8764044943820225, 0.8089887640449438, 0.8426966292134831, 0.7865168539325843, 0.7865168539325843, 0.797752808988764, 0.8202247191011236, 0.8651685393258427, 0.8426966292134831, 0.8651685393258427, 0.8202247191011236, 0.8089887640449438, 0.7752808988764045, 0.8876404494382022, 0.8314606741573034, 0.8089887640449438, 0.7865168539325843, 0.8202247191011236, 0.8764044943820225, 0.8651685393258427, 0.8539325842696629, 0.8539325842696629, 0.8651685393258427, 0.8089887640449438, 0.8539325842696629, 0.8764044943820225, 0.8202247191011236, 0.8202247191011236, 0.797752808988764, 0.8202247191011236, 0.8202247191011236, 0.7865168539325843, 0.7752808988764045, 0.797752808988764, 0.8651685393258427, 0.8314606741573034, 0.8876404494382022, 0.7865168539325843, 0.8202247191011236, 0.8089887640449438, 0.8876404494382022, 0.797752808988764, 0.8089887640449438, 0.8539325842696629, 0.8651685393258427, 0.8089887640449438, 0.8089887640449438, 0.8089887640449438] \n",
      "\n"
     ]
    }
   ],
   "source": [
    "for k in range(len(lists_rates)):\n",
    "    print(k, lists_rates[k], '\\n')"
   ]
  },
  {
   "cell_type": "code",
   "execution_count": null,
   "metadata": {},
   "outputs": [],
   "source": [
    "def calc_differences(lists_rates):\n",
    "    total_differences = {}\n",
    "    current_differences = []\n",
    "    local_differences = []\n",
    "\n",
    "    for x in range(len(lists_rates)-1):\n",
    "        for y in range(len(lists_rates)-1):\n",
    "            for z in range(len(lists_rates[y])):\n",
    "                if y >= x:\n",
    "                    # 0 lists_rates[0][0] - lists_rates[1][0]\n",
    "                    # 1 lists_rates[0][1] - lists_rates[1][1]\n",
    "                    # 1 lists_rates[0][...] - lists_rates[1][...]\n",
    "                    current_differences.append(lists_rates[x][z] - lists_rates[y+1][z])\n",
    "\n",
    "            if current_differences not in local_differences:\n",
    "                if current_differences:\n",
    "                    local_differences.append(current_differences)\n",
    "\n",
    "            current_differences = []\n",
    "            \n",
    "        total_differences[x+1] = local_differences\n",
    "        local_differences = []\n",
    "    \n",
    "    return total_differences\n",
    "\n",
    "total_differences = calc_differences(lists_rates)\n"
   ]
  },
  {
   "cell_type": "code",
   "execution_count": null,
   "metadata": {},
   "outputs": [
    {
     "name": "stdout",
     "output_type": "stream",
     "text": [
      "{1: [[-0.1348314606741573, -0.1685393258426966, -0.1123595505617978, -0.1123595505617978, -0.0561797752808989, -0.2359550561797753, -0.0898876404494382, -0.1910112359550562, -0.05617977528089879, -0.1235955056179775, -0.0674157303370786, -0.0337078651685393, -0.1235955056179775, -0.1348314606741573, -0.101123595505618, -0.0786516853932584, -0.1573033707865169, -0.0898876404494382, -0.1685393258426966, -0.1235955056179775, -0.1573033707865168, -0.0898876404494382, -0.1123595505617978, -0.1460674157303371, -0.101123595505618, -0.022471910112359605, -0.05617977528089879, -0.0898876404494382, -0.1235955056179775, -0.2584269662921348, -0.1797752808988764, -0.0449438202247191, -0.101123595505618, -0.2696629213483146, 0.011235955056179803, -0.0898876404494382, -0.0786516853932584, -0.1123595505617977, -0.1235955056179775, -0.0337078651685393, -0.1573033707865168, -0.1235955056179775, -0.101123595505618, -0.0786516853932584, -0.0561797752808989, -0.1910112359550562, -0.0898876404494382, -0.0674157303370786, -0.1910112359550561, -0.1460674157303371, -0.1235955056179775, -0.1235955056179775, -0.1348314606741573, -0.1460674157303371, -0.1123595505617977, -0.03370786516853941, -0.0561797752808989, -0.10112359550561789, -0.1685393258426966, -0.1123595505617978, -0.0898876404494382, -0.202247191011236, -0.1123595505617978, -0.1123595505617977, -0.0674157303370787, -0.1348314606741573, -0.1460674157303371, -0.0674157303370786, -0.0449438202247191, -0.1123595505617978, -0.12359550561797761, -0.1797752808988764, -0.1573033707865168, -0.1573033707865168, -0.0674157303370787, -0.1123595505617977, -0.101123595505618, -0.1348314606741573, -0.0786516853932584, -0.0561797752808989, -0.0674157303370786, -0.1235955056179775, -0.022471910112359605, -0.0561797752808989, -0.1235955056179775, -0.0898876404494382, -0.2696629213483146, -0.1348314606741573, -0.1573033707865168, 0.011235955056179692, -0.2134831460674157, -0.1573033707865168, -0.1573033707865168, -0.1573033707865168, -0.0449438202247191, -0.1235955056179775, -0.1685393258426966, -0.1348314606741573, -0.0674157303370786, -0.1348314606741573]]}\n"
     ]
    }
   ],
   "source": [
    "print(total_differences)"
   ]
  },
  {
   "cell_type": "code",
   "execution_count": null,
   "metadata": {},
   "outputs": [],
   "source": [
    "def calc_all_averages(total_differences):\n",
    "    total_average = {}\n",
    "    current_average = []\n",
    "    value_total = 0\n",
    "\n",
    "    for i in range(len(total_differences)):\n",
    "        for j in range(len(total_differences[i+1])):\n",
    "            for k in total_differences[i+1][j]:\n",
    "                value_total += k\n",
    "            average = value_total / len(total_differences[i+1][j])\n",
    "            current_average.append(average)\n",
    "            value_total = 0\n",
    "        total_average[i+1] = current_average\n",
    "        current_average = []\n",
    "    \n",
    "    return total_average\n",
    "\n",
    "total_average = calc_all_averages(total_differences)"
   ]
  },
  {
   "cell_type": "code",
   "execution_count": null,
   "metadata": {},
   "outputs": [
    {
     "name": "stdout",
     "output_type": "stream",
     "text": [
      "{1: [-0.11505617977528089]}\n"
     ]
    }
   ],
   "source": [
    "print(total_average)"
   ]
  },
  {
   "cell_type": "code",
   "execution_count": null,
   "metadata": {},
   "outputs": [
    {
     "name": "stdout",
     "output_type": "stream",
     "text": [
      "1 (-0.1257323180768185, -0.10438004147374327)\n"
     ]
    }
   ],
   "source": [
    "def calc_confidence_interval(total_average, total_differences):\n",
    "    for i in range(len(total_average)):\n",
    "        for x in range(len(total_average[i+1])):\n",
    "            \n",
    "            standard_deviation = np.std(total_differences[i+1][x])\n",
    "            standard_error = standard_deviation/np.sqrt(len(total_differences[i+1][x]))\n",
    "            multi = abs(stats.distributions.norm.ppf(0.025))\n",
    "\n",
    "            print(i+1, (total_average[i+1][x] - multi*standard_error, total_average[i+1][x] + multi*standard_error))\n",
    "\n",
    "confidence_interval = calc_confidence_interval(total_average, total_differences)"
   ]
  },
  {
   "cell_type": "code",
   "execution_count": null,
   "metadata": {},
   "outputs": [],
   "source": [
    "def calc_separate_averages(lists_rates):\n",
    "\n",
    "    exit = {}\n",
    "    aux = []\n",
    "    \n",
    "    for x in range(len(lists_rates)): \n",
    "        # calcula a media de um numpy rray \n",
    "        aux.append(np.mean(lists_rates[x]))          \n",
    "        exit[x+1] = aux\n",
    "        aux = []\n",
    "    return exit\n",
    "\n",
    "separate_averages = calc_separate_averages(lists_rates)"
   ]
  },
  {
   "cell_type": "code",
   "execution_count": null,
   "metadata": {},
   "outputs": [],
   "source": [
    "hash_rates = {}\n",
    "aux = []\n",
    "for x in range(len(lists_rates)):\n",
    "    aux.append(lists_rates[x])\n",
    "    hash_rates[x+1] = aux\n",
    "    aux = []\n",
    "\n",
    "calc_confidence_interval(separate_averages, hash_rates)"
   ]
  },
  {
   "attachments": {},
   "cell_type": "markdown",
   "metadata": {},
   "source": [
    "3. (25 pontos) Qual o número máximo de características que podem ser removidas da base Iris archive.ics.uci.edu/ml/datasets/iris sem reduzir significativamente a taxa de acerto? De na a metodologia utilizada para justificar sua resposta. "
   ]
  },
  {
   "cell_type": "code",
   "execution_count": null,
   "metadata": {},
   "outputs": [],
   "source": [
    "import numpy as np\n",
    "import pandas as pd\n",
    "from sklearn.model_selection import train_test_split\n",
    "from scipy import stats\n",
    "from sklearn.neighbors import KNeighborsClassifier"
   ]
  },
  {
   "cell_type": "code",
   "execution_count": 70,
   "metadata": {},
   "outputs": [],
   "source": [
    "names_columns = ['Sepal length', 'Sepal width', 'Petal length', 'Petal width', 'Class' ]\n",
    "df = pd.read_csv(\"iris.data\", names=names_columns)\n",
    "\n",
    "y = np.array(df[df.columns[-1::]]).flatten()\n",
    "\n",
    "h = {'Iris-setosa': 1, 'Iris-versicolor': 2, 'Iris-virginica': 3}\n",
    "\n",
    "y2 = df[df.columns[-1::]]\n",
    "\n",
    "for classe in range(len(y)):\n",
    "    y[classe] = int(h[y[classe]])\n",
    "\n",
    "y = y.astype(np.int64)"
   ]
  },
  {
   "cell_type": "code",
   "execution_count": 84,
   "metadata": {},
   "outputs": [],
   "source": [
    "def calc_rating_n_columns(df, n_columns, n_rates, porcent_test):\n",
    "    lists = []\n",
    "    colunas = len(df.columns)-1\n",
    "    classificador = KNeighborsClassifier(n_neighbors=1)\n",
    "\n",
    "    for n in range(n_columns):\n",
    "        list_rates = []\n",
    "        x = (df[df.columns[0:colunas:]])\n",
    "        colunas -= 1\n",
    "        for i in range(n_rates):\n",
    "            x_treino, x_teste, y_treino, y_teste = train_test_split (x, y,test_size=porcent_test, random_state=i)\n",
    "            classificador.fit(x_treino, y_treino)\n",
    "            taxas = classificador.score(x_teste, y_teste)\n",
    "            list_rates.append(taxas)\n",
    "\n",
    "        lists.append(list_rates)\n",
    "\n",
    "    return lists\n",
    "\n",
    "qtd_columns = len(df.columns)-1\n",
    "lists_rates = calc_rating_n_columns(df, qtd_columns, 30, 0.5)"
   ]
  },
  {
   "cell_type": "code",
   "execution_count": 85,
   "metadata": {},
   "outputs": [
    {
     "name": "stdout",
     "output_type": "stream",
     "text": [
      "1 (-0.1257323180768185, -0.10438004147374327)\n"
     ]
    }
   ],
   "source": [
    "def calc_confidence_interval(total_average, total_differences):\n",
    "    for i in range(len(total_average)):\n",
    "        for x in range(len(total_average[i+1])):\n",
    "            \n",
    "            standard_deviation = np.std(total_differences[i+1][x])\n",
    "            standard_error = standard_deviation/np.sqrt(len(total_differences[i+1][x]))\n",
    "            multi = abs(stats.distributions.norm.ppf(0.025))\n",
    "\n",
    "            print(i+1, (total_average[i+1][x] - multi*standard_error, total_average[i+1][x] + multi*standard_error))\n",
    "\n",
    "confidence_interval = calc_confidence_interval(total_average, total_differences)"
   ]
  },
  {
   "cell_type": "code",
   "execution_count": 86,
   "metadata": {},
   "outputs": [],
   "source": [
    "def calc_separate_averages(lists_rates):\n",
    "\n",
    "    exit = {}\n",
    "    aux = []\n",
    "    \n",
    "    for x in range(len(lists_rates)): \n",
    "        # calcula a media de um numpy rray \n",
    "        aux.append(np.mean(lists_rates[x]))          \n",
    "        exit[x+1] = aux\n",
    "        aux = []\n",
    "    return exit\n",
    "\n",
    "separate_averages = calc_separate_averages(lists_rates)"
   ]
  },
  {
   "cell_type": "code",
   "execution_count": 87,
   "metadata": {},
   "outputs": [
    {
     "name": "stdout",
     "output_type": "stream",
     "text": [
      "1 (0.9392543625860171, 0.9514123040806496)\n",
      "2 (0.917420609527016, 0.937690501584095)\n",
      "3 (0.6997671170240668, 0.7286773274203776)\n",
      "4 (0.5832407909731356, 0.6238703201379756)\n"
     ]
    }
   ],
   "source": [
    "hash_rates = {}\n",
    "aux = []\n",
    "for x in range(len(lists_rates)):\n",
    "    aux.append(lists_rates[x])\n",
    "    hash_rates[x+1] = aux\n",
    "    aux = []\n",
    "\n",
    "calc_confidence_interval(separate_averages, hash_rates)"
   ]
  },
  {
   "attachments": {},
   "cell_type": "markdown",
   "metadata": {},
   "source": [
    "4. (25 pontos) Utilizando o classificador k-NN na base Wine archive.ics.uci.edu/ml/datasets/ Wine, teste os valores k = 1, . . . , 15. Para qual valor de k o classi cador apresenta uma taxa de acerto significativamente maior? De na a metodologia utilizada para justificar sua resposta. "
   ]
  },
  {
   "cell_type": "code",
   "execution_count": null,
   "metadata": {},
   "outputs": [],
   "source": [
    "nomes_col = ['Class', 'Alcohol', 'Malic acid','Ash', 'Alcalinity of ash', 'Magnesium', 'Total phenols','Flavanoids', 'Nonflavanoid phenols','Proanthocyanins', 'Color intensity','Hue','OD280/OD315 of diluted wines','Proline',]\n",
    "\n",
    "df = pd.read_csv(\"data/wine.data\", names=nomes_col)"
   ]
  },
  {
   "cell_type": "code",
   "execution_count": null,
   "metadata": {},
   "outputs": [],
   "source": [
    "x = np.array(df[df.columns[1:13:]])\n",
    "x2 = df[df.columns[1:13:]]\n",
    "\n",
    "y = np.array(df[df.columns[:1:]]).flatten()\n",
    "y2 = df[df.columns[:1:]]"
   ]
  },
  {
   "cell_type": "code",
   "execution_count": null,
   "metadata": {},
   "outputs": [],
   "source": [
    "def calcular_taxas_para_knn(k, qtd_taxas, porcent_test):\n",
    "    array_taxas = []\n",
    "\n",
    "    for n in range(k):\n",
    "        arrays = []\n",
    "        for i in range(qtd_taxas):\n",
    "            x_treino, x_teste, y_treino, y_teste = train_test_split (x, y,test_size=porcent_test, random_state=i)\n",
    "            classificador = KNeighborsClassifier(n_neighbors=n+1)\n",
    "            classificador.fit(x_treino, y_treino)\n",
    "            taxas = classificador.score(x_teste, y_teste)\n",
    "            arrays.append(taxas)\n",
    "\n",
    "        array_taxas.append(arrays)\n",
    "        \n",
    "    return array_taxas\n",
    "\n",
    "array_taxas = calcular_taxas_para_knn(15, 30, 0.5)"
   ]
  },
  {
   "cell_type": "code",
   "execution_count": null,
   "metadata": {},
   "outputs": [],
   "source": [
    "def calcular_intervalo_confianca(hash_medias, total_differences):\n",
    "    for i in range(len(hash_medias)):\n",
    "        for x in range(len(hash_medias[i+1])):\n",
    "            \n",
    "            std = np.std(total_differences[i+1][x])\n",
    "\n",
    "            desvio_padrao = std/np.sqrt(len(total_differences[i+1][x]))\n",
    "\n",
    "            multiplicador = abs(stats.distributions.norm.ppf(0.025))\n",
    "\n",
    "            print(\"int_conf: \", i+1,(hash_medias[i+1][x] - multiplicador*desvio_padrao, hash_medias[i+1][x] + multiplicador*desvio_padrao)\n",
    "            )"
   ]
  },
  {
   "cell_type": "code",
   "execution_count": null,
   "metadata": {},
   "outputs": [],
   "source": [
    "def calcular_medias_separadas(array):\n",
    "\n",
    "    hash_saida = {}\n",
    "    array_aux = []\n",
    "    for x in range(len(array)):  \n",
    "        array_aux.append(np.mean(array[x]))          \n",
    "        hash_saida[x+1] = array_aux\n",
    "        array_aux = []\n",
    "    return hash_saida\n"
   ]
  },
  {
   "cell_type": "code",
   "execution_count": null,
   "metadata": {},
   "outputs": [],
   "source": [
    "medias_separadas = calcular_medias_separadas(array_taxas)\n",
    "\n",
    "hash_taxas = {}\n",
    "array_aux = []\n",
    "\n",
    "for x in range(len(array_taxas)):\n",
    "    array_aux.append(array_taxas[x])\n",
    "    hash_taxas[x+1] = array_aux\n",
    "    array_aux = [] \n",
    "\n",
    "calcular_intervalo_confianca(medias_separadas, hash_taxas)"
   ]
  },
  {
   "cell_type": "code",
   "execution_count": null,
   "metadata": {},
   "outputs": [
    {
     "name": "stdout",
     "output_type": "stream",
     "text": [
      "1 Taxa de acerto:  0.6944444444444444\n",
      "2 Taxa de acerto:  0.7222222222222222\n",
      "3 Taxa de acerto:  0.6111111111111112\n",
      "4 Taxa de acerto:  0.6944444444444444\n",
      "5 Taxa de acerto:  0.6388888888888888\n",
      "6 Taxa de acerto:  0.6111111111111112\n",
      "7 Taxa de acerto:  0.6388888888888888\n",
      "8 Taxa de acerto:  0.6388888888888888\n",
      "9 Taxa de acerto:  0.6666666666666666\n",
      "10 Taxa de acerto:  0.6111111111111112\n",
      "11 Taxa de acerto:  0.6111111111111112\n",
      "12 Taxa de acerto:  0.6111111111111112\n",
      "13 Taxa de acerto:  0.5833333333333334\n",
      "14 Taxa de acerto:  0.5833333333333334\n",
      "15 Taxa de acerto:  0.5833333333333334\n",
      "\n",
      "\n",
      "Maior taxa de acerto:  0.5833333333333334\n"
     ]
    }
   ],
   "source": [
    "import pandas as pd\n",
    "import numpy as np\n",
    "from sklearn.model_selection import train_test_split\n",
    "from sklearn.neighbors import KNeighborsClassifier\n",
    "from sklearn.metrics import accuracy_score\n",
    "\n",
    "url = \"https://archive.ics.uci.edu/ml/machine-learning-databases/wine/wine.data\"\n",
    "colnames = [\"Class\", \"Alcohol\", \"Malic acid\", \"Ash\", \"Alcalinity of ash\", \n",
    "            \"Magnesium\", \"Total phenols\", \"Flavanoids\", \"Nonflavanoid phenols\", \n",
    "            \"Proanthocyanins\", \"Color intensity\", \"Hue\", \"OD280/OD315 of diluted wines\", \"Proline\"]\n",
    "dataset = pd.read_csv(url, names=colnames)\n",
    "\n",
    "X = dataset.iloc[:, 1:]\n",
    "y = dataset.iloc[:, 0]\n",
    "X_train, X_test, y_train, y_test = train_test_split(X, y, test_size=0.2)\n",
    "\n",
    "list_score = []\n",
    "for k in range(1,16):\n",
    "    knn = KNeighborsClassifier(n_neighbors=k, metric='euclidean')\n",
    "    knn.fit(X_train, y_train)\n",
    "\n",
    "    y_pred = knn.predict(X_test)\n",
    "\n",
    "    score = accuracy_score(y_test, y_pred)\n",
    "    print(k, \"Taxa de acerto: \", score)\n",
    "    list_score.append(score)\n",
    "\n",
    "score.sort\n",
    "print(\"\\n\")\n",
    "print(\"Maior taxa de acerto: \", score)"
   ]
  }
 ],
 "metadata": {
  "kernelspec": {
   "display_name": "Python 3",
   "language": "python",
   "name": "python3"
  },
  "language_info": {
   "codemirror_mode": {
    "name": "ipython",
    "version": 3
   },
   "file_extension": ".py",
   "mimetype": "text/x-python",
   "name": "python",
   "nbconvert_exporter": "python",
   "pygments_lexer": "ipython3",
   "version": "3.11.0"
  },
  "orig_nbformat": 4,
  "vscode": {
   "interpreter": {
    "hash": "8b8edaa195e148f815789564e9a10f57d8b792ac9e1a5daafce5fbae42bebd0e"
   }
  }
 },
 "nbformat": 4,
 "nbformat_minor": 2
}
