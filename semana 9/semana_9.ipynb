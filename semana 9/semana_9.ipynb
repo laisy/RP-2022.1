{
 "cells": [
  {
   "attachments": {},
   "cell_type": "markdown",
   "metadata": {},
   "source": [
    "Q1"
   ]
  },
  {
   "cell_type": "code",
   "execution_count": 1,
   "metadata": {},
   "outputs": [],
   "source": [
    "import numpy as np\n",
    "import cv2"
   ]
  },
  {
   "attachments": {},
   "cell_type": "markdown",
   "metadata": {},
   "source": [
    "OpenCV: detecção e reconhecimento de faces, identificação de objetos, classificação de ações humanas em vídeos, rastreamento de movimentos de objetos, dentre outros."
   ]
  },
  {
   "attachments": {},
   "cell_type": "markdown",
   "metadata": {},
   "source": [
    "O método cv2.imread() carrega uma imagem do arquivo especificado. Se a imagem não puder ser lida"
   ]
  },
  {
   "cell_type": "code",
   "execution_count": 11,
   "metadata": {},
   "outputs": [],
   "source": [
    "f=cv2.imread('/home/laisy/Documentos/RP/RP-2022.1/semana 9/imagens/lena_gray_512.png', cv2.IMREAD_GRAYSCALE)\n",
    "g=cv2.imread('/home/laisy/Documentos/RP/RP-2022.1/semana 9/imagens/mandril_gray.png', cv2.IMREAD_GRAYSCALE)"
   ]
  },
  {
   "cell_type": "code",
   "execution_count": 2,
   "metadata": {},
   "outputs": [],
   "source": [
    "def correction(img):\n",
    "    maxi = 0\n",
    "    mini = 255\n",
    "    \n",
    "    for x in range(len(img)):\n",
    "        for y in range(len(img[x])):\n",
    "            maxi = max(maxi, img[x][y])\n",
    "            mini = min(mini, img[x][y])\n",
    "\n",
    "    for k in range(len(img)):\n",
    "        for z in range(len(img[k])):\n",
    "            img[k][z] = np.uint8(255 *( img[k][z]-mini)/(maxi-mini))\n",
    "\n",
    "    return np.array(img)"
   ]
  },
  {
   "cell_type": "code",
   "execution_count": 3,
   "metadata": {},
   "outputs": [],
   "source": [
    "def input_type_conversion(img):\n",
    "    array_aux = []\n",
    "    for y in range(len(img)):\n",
    "        array_aux.append(img[y].tolist())\n",
    "        for z in range(len(img[y])):\n",
    "            array_aux[y][z] = (int(img[y][z]))\n",
    "    \n",
    "    return array_aux\n"
   ]
  },
  {
   "cell_type": "code",
   "execution_count": 4,
   "metadata": {},
   "outputs": [],
   "source": [
    "def sum_of_images(array_aux, g, n):\n",
    "    for p in range(len(array_aux)):\n",
    "        for u in range(len(array_aux[p])):\n",
    "            array_aux[p][u] = (n*array_aux[p][u]) + int((1-n)*g[p][u])\n",
    "    return array_aux"
   ]
  },
  {
   "cell_type": "code",
   "execution_count": 5,
   "metadata": {},
   "outputs": [],
   "source": [
    "def sum_img(img_1, img_2, n):\n",
    "    result = input_type_conversion(img_1)\n",
    "    result = sum_of_images(result, img_2, n)\n",
    "    result = correction(result)\n",
    "\n",
    "    return result"
   ]
  },
  {
   "cell_type": "code",
   "execution_count": 16,
   "metadata": {},
   "outputs": [],
   "source": [
    "# α: 0,25; 0,50; e 0,75\n",
    "img_1 = sum_img(f, g, 0.25)\n",
    "img_2 = sum_img(g, f, 0.25)\n",
    "\n",
    "img_3 = sum_img(g, f, 0.50)\n",
    "img_4 = sum_img(f, g, 0.50)\n",
    "\n",
    "img_5 = sum_img(g, f, 0.75)\n",
    "img_6 = sum_img(f, g, 0.75)"
   ]
  },
  {
   "cell_type": "code",
   "execution_count": 17,
   "metadata": {},
   "outputs": [
    {
     "data": {
      "text/plain": [
       "True"
      ]
     },
     "execution_count": 17,
     "metadata": {},
     "output_type": "execute_result"
    }
   ],
   "source": [
    "cv2.imwrite('result_Q1/soma1.png', img_1)\n",
    "cv2.imwrite('result_Q1/soma2.png', img_2)\n",
    "cv2.imwrite('result_Q1/soma3.png', img_3)\n",
    "cv2.imwrite('result_Q1/soma4.png', img_4)\n",
    "cv2.imwrite('result_Q1/soma5.png', img_5)\n",
    "cv2.imwrite('result_Q1/soma6.png', img_6)\n"
   ]
  },
  {
   "cell_type": "code",
   "execution_count": 18,
   "metadata": {},
   "outputs": [],
   "source": [
    "cv2.imshow('result_Q1/soma1', img_1)\n",
    "cv2.imshow('result_Q1/soma2', img_2)\n",
    "cv2.imshow('result_Q1/soma3', img_3)\n",
    "cv2.imshow('result_Q1/soma4', img_4)\n",
    "cv2.imshow('result_Q1/soma5', img_5)\n",
    "cv2.imshow('result_Q1/soma6', img_6)\n",
    "\n",
    "cv2.waitKey(0)\n",
    "cv2.destroyAllWindows()"
   ]
  },
  {
   "attachments": {},
   "cell_type": "markdown",
   "metadata": {},
   "source": [
    "Q2"
   ]
  },
  {
   "cell_type": "code",
   "execution_count": 8,
   "metadata": {},
   "outputs": [],
   "source": [
    "img1=cv2.imread('/home/laisy/Documentos/RP/RP-2022.1/semana 9/imagens/Fig0228(b)(angiography_live_ image).png', cv2.IMREAD_GRAYSCALE)\n",
    "img2=cv2.imread('/home/laisy/Documentos/RP/RP-2022.1/semana 9/imagens/Fig0228(a)(angiography_mask_image).png', cv2.IMREAD_GRAYSCALE)"
   ]
  },
  {
   "cell_type": "code",
   "execution_count": 9,
   "metadata": {},
   "outputs": [],
   "source": [
    "def image_subtraction(array_aux, img2):\n",
    "    for p in range(len(array_aux)):\n",
    "        for u in range(len(array_aux[p])):\n",
    "            array_aux[p][u] = (array_aux[p][u]) - int(img2[p][u])\n",
    "    return array_aux"
   ]
  },
  {
   "cell_type": "code",
   "execution_count": 10,
   "metadata": {},
   "outputs": [],
   "source": [
    "def sub_img(img_1, img_2):\n",
    "    result = input_type_conversion(img_1)\n",
    "    result = image_subtraction(result, img_2)\n",
    "    result = correction(result)\n",
    "\n",
    "    return result"
   ]
  },
  {
   "cell_type": "code",
   "execution_count": 11,
   "metadata": {},
   "outputs": [],
   "source": [
    "sub1 = sub_img(img1, img2)\n",
    "sub2 = sub_img(img2, img1)"
   ]
  },
  {
   "cell_type": "code",
   "execution_count": 12,
   "metadata": {},
   "outputs": [
    {
     "data": {
      "text/plain": [
       "True"
      ]
     },
     "execution_count": 12,
     "metadata": {},
     "output_type": "execute_result"
    }
   ],
   "source": [
    "cv2.imwrite('result_Q2/subtracao1.png', sub1)\n",
    "cv2.imwrite('result_Q2/subtracao2.png', sub2)"
   ]
  },
  {
   "cell_type": "code",
   "execution_count": 13,
   "metadata": {},
   "outputs": [],
   "source": [
    "cv2.imshow('result_Q2/subtracao1', sub1)\n",
    "cv2.imshow('result_Q2/subtracao2', sub2)\n",
    "\n",
    "cv2.waitKey(0)\n",
    "cv2.destroyAllWindows()"
   ]
  },
  {
   "attachments": {},
   "cell_type": "markdown",
   "metadata": {},
   "source": [
    "Q3"
   ]
  },
  {
   "cell_type": "code",
   "execution_count": 7,
   "metadata": {},
   "outputs": [],
   "source": [
    "img1=cv2.imread('/home/laisy/Documentos/RP/RP-2022.1/semana 9/imagens/Fig0229(a)(tungsten_filament_shaded).png', cv2.IMREAD_GRAYSCALE)\n",
    "img2=cv2.imread('/home/laisy/Documentos/RP/RP-2022.1/semana 9/imagens/Fig0229(b)(tungsten_sensor_shading).png', cv2.IMREAD_GRAYSCALE)"
   ]
  },
  {
   "cell_type": "code",
   "execution_count": 8,
   "metadata": {},
   "outputs": [],
   "source": [
    "def image_division(array_aux, img2):\n",
    "    for p in range(len(array_aux)):\n",
    "        for u in range(len(array_aux[p])):\n",
    "            if img2[p][u] == 0:\n",
    "                array_aux[p][u] = (array_aux[p][u])/(int(img2[p][u])+1)\n",
    "            else:\n",
    "                array_aux[p][u] = (array_aux[p][u])/(int(img2[p][u]))\n",
    "    return array_aux"
   ]
  },
  {
   "cell_type": "code",
   "execution_count": 9,
   "metadata": {},
   "outputs": [],
   "source": [
    "div = input_type_conversion(img1)\n",
    "div = image_division(div, img2)\n",
    "div = correction(div)"
   ]
  },
  {
   "cell_type": "code",
   "execution_count": 10,
   "metadata": {},
   "outputs": [],
   "source": [
    "cv2.imwrite('result_Q3/divisao.png', div)\n",
    "\n",
    "cv2.imshow('result_Q3/divisao', div)\n",
    "cv2.imshow('imagem1',img1)\n",
    "cv2.imshow('imagem2',img2)\n",
    "\n",
    "cv2.waitKey(0)\n",
    "cv2.destroyAllWindows()"
   ]
  },
  {
   "attachments": {},
   "cell_type": "markdown",
   "metadata": {},
   "source": [
    "Q4"
   ]
  },
  {
   "attachments": {},
   "cell_type": "markdown",
   "metadata": {},
   "source": [
    "Q5"
   ]
  },
  {
   "cell_type": "code",
   "execution_count": 6,
   "metadata": {},
   "outputs": [],
   "source": [
    "img1=cv2.imread('/home/laisy/Documentos/RP/RP-2022.1/semana 9/ruido/lena1.png', cv2.IMREAD_GRAYSCALE)"
   ]
  },
  {
   "cell_type": "code",
   "execution_count": 7,
   "metadata": {},
   "outputs": [],
   "source": [
    "array_aux = []\n",
    "\n",
    "for y in range(len(img1)):\n",
    "    array_aux.append(img1[y].tolist())\n",
    "    for z in range(len(img1[y])):\n",
    "        array_aux[y][z] = (int(img1[y][z]))"
   ]
  },
  {
   "cell_type": "code",
   "execution_count": 8,
   "metadata": {},
   "outputs": [],
   "source": [
    "def sum_of_images(qtd, array_aux):\n",
    "    for x in range(qtd):\n",
    "        img2=cv2.imread('/home/laisy/Documentos/RP/RP-2022.1/semana 9/ruido/lena'+str(x+2)+'.png', cv2.IMREAD_GRAYSCALE)\n",
    "        for p in range(len(array_aux)):\n",
    "            for u in range(len(array_aux[p])):\n",
    "                array_aux[p][u] = (array_aux[p][u]) + int(img2[p][u])\n",
    "    return array_aux\n"
   ]
  },
  {
   "attachments": {},
   "cell_type": "markdown",
   "metadata": {},
   "source": [
    "A)"
   ]
  },
  {
   "cell_type": "code",
   "execution_count": 9,
   "metadata": {},
   "outputs": [],
   "source": [
    "average_100 = sum_of_images(99, array_aux)\n",
    "\n",
    "average_100 = correction(average_100)"
   ]
  },
  {
   "cell_type": "code",
   "execution_count": 10,
   "metadata": {},
   "outputs": [
    {
     "data": {
      "text/plain": [
       "True"
      ]
     },
     "execution_count": 10,
     "metadata": {},
     "output_type": "execute_result"
    }
   ],
   "source": [
    "cv2.imwrite('result_Q5/media100.png', average_100)"
   ]
  },
  {
   "attachments": {},
   "cell_type": "markdown",
   "metadata": {},
   "source": [
    "B)"
   ]
  },
  {
   "cell_type": "code",
   "execution_count": 12,
   "metadata": {},
   "outputs": [],
   "source": [
    "average_10 = sum_of_images(9, array_aux)\n",
    "\n",
    "average_10 = correction(average_10)"
   ]
  },
  {
   "cell_type": "code",
   "execution_count": 13,
   "metadata": {},
   "outputs": [
    {
     "data": {
      "text/plain": [
       "True"
      ]
     },
     "execution_count": 13,
     "metadata": {},
     "output_type": "execute_result"
    }
   ],
   "source": [
    "\n",
    "cv2.imwrite('result_Q5/media10.png', average_10)"
   ]
  },
  {
   "cell_type": "code",
   "execution_count": 14,
   "metadata": {},
   "outputs": [],
   "source": [
    "cv2.imshow('media_100', average_100)\n",
    "cv2.imshow('media_10', average_10)\n",
    "cv2.imshow('lena_1',img1)\n",
    "\n",
    "cv2.waitKey(0)\n",
    "cv2.destroyAllWindows()"
   ]
  }
 ],
 "metadata": {
  "kernelspec": {
   "display_name": "Python 3",
   "language": "python",
   "name": "python3"
  },
  "language_info": {
   "codemirror_mode": {
    "name": "ipython",
    "version": 3
   },
   "file_extension": ".py",
   "mimetype": "text/x-python",
   "name": "python",
   "nbconvert_exporter": "python",
   "pygments_lexer": "ipython3",
   "version": "3.8.10"
  },
  "orig_nbformat": 4
 },
 "nbformat": 4,
 "nbformat_minor": 2
}
