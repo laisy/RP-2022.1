{
 "cells": [
  {
   "attachments": {},
   "cell_type": "markdown",
   "metadata": {},
   "source": [
    "Q1"
   ]
  },
  {
   "cell_type": "code",
   "execution_count": 10,
   "metadata": {},
   "outputs": [],
   "source": [
    "import numpy as np\n",
    "import cv2"
   ]
  },
  {
   "attachments": {},
   "cell_type": "markdown",
   "metadata": {},
   "source": [
    "OpenCV: detecção e reconhecimento de faces, identificação de objetos, classificação de ações humanas em vídeos, rastreamento de movimentos de objetos, dentre outros."
   ]
  },
  {
   "attachments": {},
   "cell_type": "markdown",
   "metadata": {},
   "source": [
    "O método cv2.imread() carrega uma imagem do arquivo especificado. Se a imagem não puder ser lida"
   ]
  },
  {
   "cell_type": "code",
   "execution_count": 11,
   "metadata": {},
   "outputs": [],
   "source": [
    "f=cv2.imread('/home/laisy/Documentos/RP/RP-2022.1/semana 9/imagens/lena_gray_512.png', cv2.IMREAD_GRAYSCALE)\n",
    "g=cv2.imread('/home/laisy/Documentos/RP/RP-2022.1/semana 9/imagens/mandril_gray.png', cv2.IMREAD_GRAYSCALE)"
   ]
  },
  {
   "cell_type": "code",
   "execution_count": 12,
   "metadata": {},
   "outputs": [],
   "source": [
    "def correction(img):\n",
    "    maxi = 0\n",
    "    mini = 255\n",
    "    \n",
    "    for x in range(len(img)):\n",
    "        for y in range(len(img[x])):\n",
    "            maxi = max(maxi, img[x][y])\n",
    "            mini = min(mini, img[x][y])\n",
    "\n",
    "    for k in range(len(img)):\n",
    "        for z in range(len(img[k])):\n",
    "            img[k][z] = np.uint8(255 *( img[k][z]-mini)/(maxi-mini))\n",
    "\n",
    "    return np.array(img)"
   ]
  },
  {
   "cell_type": "code",
   "execution_count": 13,
   "metadata": {},
   "outputs": [],
   "source": [
    "def input_type_conversion(img):\n",
    "    array_aux = []\n",
    "    for y in range(len(img)):\n",
    "        array_aux.append(img[y].tolist())\n",
    "        for z in range(len(img[y])):\n",
    "            array_aux[y][z] = (int(img[y][z]))\n",
    "    \n",
    "    return array_aux\n"
   ]
  },
  {
   "cell_type": "code",
   "execution_count": 14,
   "metadata": {},
   "outputs": [],
   "source": [
    "def sum_of_images(array_aux, g, n):\n",
    "    for p in range(len(array_aux)):\n",
    "        for u in range(len(array_aux[p])):\n",
    "            array_aux[p][u] = (n*array_aux[p][u]) + int((1-n)*g[p][u])\n",
    "    return array_aux"
   ]
  },
  {
   "cell_type": "code",
   "execution_count": 15,
   "metadata": {},
   "outputs": [],
   "source": [
    "def sum_img(img_1, img_2, n):\n",
    "    result = input_type_conversion(img_1)\n",
    "    result = sum_of_images(result, img_2, n)\n",
    "    result = correction(result)\n",
    "\n",
    "    return result"
   ]
  },
  {
   "cell_type": "code",
   "execution_count": 16,
   "metadata": {},
   "outputs": [],
   "source": [
    "# α: 0,25; 0,50; e 0,75\n",
    "img_1 = sum_img(f, g, 0.25)\n",
    "img_2 = sum_img(g, f, 0.25)\n",
    "\n",
    "img_3 = sum_img(g, f, 0.50)\n",
    "img_4 = sum_img(f, g, 0.50)\n",
    "\n",
    "img_5 = sum_img(g, f, 0.75)\n",
    "img_6 = sum_img(f, g, 0.75)"
   ]
  },
  {
   "cell_type": "code",
   "execution_count": 17,
   "metadata": {},
   "outputs": [
    {
     "data": {
      "text/plain": [
       "True"
      ]
     },
     "execution_count": 17,
     "metadata": {},
     "output_type": "execute_result"
    }
   ],
   "source": [
    "cv2.imwrite('result/soma1.png', img_1)\n",
    "cv2.imwrite('result/soma2.png', img_2)\n",
    "cv2.imwrite('result/soma3.png', img_3)\n",
    "cv2.imwrite('result/soma4.png', img_4)\n",
    "cv2.imwrite('result/soma5.png', img_5)\n",
    "cv2.imwrite('result/soma6.png', img_6)\n"
   ]
  },
  {
   "cell_type": "code",
   "execution_count": 18,
   "metadata": {},
   "outputs": [],
   "source": [
    "cv2.imshow('result/soma1', img_1)\n",
    "cv2.imshow('result/soma2', img_2)\n",
    "cv2.imshow('result/soma3', img_3)\n",
    "cv2.imshow('result/soma4', img_4)\n",
    "cv2.imshow('result/soma5', img_5)\n",
    "cv2.imshow('result/soma6', img_6)\n",
    "\n",
    "cv2.waitKey(0)\n",
    "cv2.destroyAllWindows()"
   ]
  }
 ],
 "metadata": {
  "kernelspec": {
   "display_name": "Python 3",
   "language": "python",
   "name": "python3"
  },
  "language_info": {
   "codemirror_mode": {
    "name": "ipython",
    "version": 3
   },
   "file_extension": ".py",
   "mimetype": "text/x-python",
   "name": "python",
   "nbconvert_exporter": "python",
   "pygments_lexer": "ipython3",
   "version": "3.8.10"
  },
  "orig_nbformat": 4
 },
 "nbformat": 4,
 "nbformat_minor": 2
}
